{
 "cells": [
  {
   "cell_type": "markdown",
   "id": "79e960f2",
   "metadata": {
    "id": "79e960f2",
    "papermill": {
     "duration": 0.007889,
     "end_time": "2022-11-29T15:49:16.705515",
     "exception": false,
     "start_time": "2022-11-29T15:49:16.697626",
     "status": "completed"
    },
    "tags": []
   },
   "source": [
    "\n",
    "\n",
    "This dataset contains the dynamic analysis of 582 samples of ransomware and 942 of good applications (goodware). The total feature size is 30K+, including many software operations (calling API, registry key operations ...).\n",
    "\n",
    "For details please refer the origin github location: (github location: https://github.com/rissgrouphub/ransomwaredataset2016)"
   ]
  },
  {
   "cell_type": "code",
   "execution_count": null,
   "id": "xtSgk95RZZO2",
   "metadata": {
    "colab": {
     "base_uri": "https://localhost:8080/"
    },
    "executionInfo": {
     "elapsed": 4315,
     "status": "ok",
     "timestamp": 1704878468012,
     "user": {
      "displayName": "Shreyanth Data Science",
      "userId": "07127992770184506420"
     },
     "user_tz": -330
    },
    "id": "xtSgk95RZZO2",
    "outputId": "a3b4f102-6d7a-45b5-cf84-308ddb650d54"
   },
   "outputs": [
    {
     "name": "stdout",
     "output_type": "stream",
     "text": [
      "Drive already mounted at /content/drive; to attempt to forcibly remount, call drive.mount(\"/content/drive\", force_remount=True).\n"
     ]
    }
   ],
   "source": []
  },
  {
   "cell_type": "code",
   "execution_count": 1,
   "id": "3031b8f8",
   "metadata": {
    "execution": {
     "iopub.execute_input": "2022-11-29T15:49:16.721377Z",
     "iopub.status.busy": "2022-11-29T15:49:16.720622Z",
     "iopub.status.idle": "2022-11-29T15:49:16.742394Z",
     "shell.execute_reply": "2022-11-29T15:49:16.741571Z"
    },
    "executionInfo": {
     "elapsed": 1,
     "status": "ok",
     "timestamp": 1704878469343,
     "user": {
      "displayName": "Shreyanth Data Science",
      "userId": "07127992770184506420"
     },
     "user_tz": -330
    },
    "id": "3031b8f8",
    "papermill": {
     "duration": 0.032698,
     "end_time": "2022-11-29T15:49:16.745074",
     "exception": false,
     "start_time": "2022-11-29T15:49:16.712376",
     "status": "completed"
    },
    "tags": []
   },
   "outputs": [],
   "source": [
    "import numpy as np # linear algebra\n",
    "import pandas as pd # data processing, CSV file I/O (e.g. pd.read_csv)"
   ]
  },
  {
   "cell_type": "code",
   "execution_count": 2,
   "id": "67670d45",
   "metadata": {
    "execution": {
     "iopub.execute_input": "2022-11-29T15:49:16.760803Z",
     "iopub.status.busy": "2022-11-29T15:49:16.760045Z",
     "iopub.status.idle": "2022-11-29T15:49:16.764676Z",
     "shell.execute_reply": "2022-11-29T15:49:16.763840Z"
    },
    "executionInfo": {
     "elapsed": 2,
     "status": "ok",
     "timestamp": 1704878469886,
     "user": {
      "displayName": "Shreyanth Data Science",
      "userId": "07127992770184506420"
     },
     "user_tz": -330
    },
    "id": "67670d45",
    "papermill": {
     "duration": 0.014891,
     "end_time": "2022-11-29T15:49:16.766876",
     "exception": false,
     "start_time": "2022-11-29T15:49:16.751985",
     "status": "completed"
    },
    "tags": []
   },
   "outputs": [],
   "source": [
    "import pandas as pd\n",
    "import numpy as np\n",
    "import matplotlib.pyplot as plt\n",
    "INPUT_PATH = 'C:/Users/MYPC/Desktop/shivsaran/Ransomware/Ransomware.csv'"
   ]
  },
  {
   "cell_type": "code",
   "execution_count": 6,
   "id": "24103571",
   "metadata": {
    "execution": {
     "iopub.execute_input": "2022-11-29T15:49:16.782951Z",
     "iopub.status.busy": "2022-11-29T15:49:16.782257Z",
     "iopub.status.idle": "2022-11-29T15:49:16.851834Z",
     "shell.execute_reply": "2022-11-29T15:49:16.850882Z"
    },
    "executionInfo": {
     "elapsed": 577,
     "status": "ok",
     "timestamp": 1704878470462,
     "user": {
      "displayName": "Shreyanth Data Science",
      "userId": "07127992770184506420"
     },
     "user_tz": -330
    },
    "id": "24103571",
    "papermill": {
     "duration": 0.080355,
     "end_time": "2022-11-29T15:49:16.854223",
     "exception": false,
     "start_time": "2022-11-29T15:49:16.773868",
     "status": "completed"
    },
    "tags": []
   },
   "outputs": [],
   "source": [
    "INPUT_PATH = 'C:/Users/MYPC/Desktop/shivsaran/Ransomware/'\n",
    "f1= open(INPUT_PATH + 'VariableNames.txt', encoding = 'utf-8')\n",
    "\n",
    "columns=[]\n",
    "for i in f1:\n",
    "    column = i.split(';')\n",
    "    columns.append(column[1].replace('\\n', ''))"
   ]
  },
  {
   "cell_type": "code",
   "execution_count": 7,
   "id": "64905b36",
   "metadata": {
    "colab": {
     "base_uri": "https://localhost:8080/"
    },
    "execution": {
     "iopub.execute_input": "2022-11-29T15:49:16.870165Z",
     "iopub.status.busy": "2022-11-29T15:49:16.869548Z",
     "iopub.status.idle": "2022-11-29T15:49:16.877608Z",
     "shell.execute_reply": "2022-11-29T15:49:16.876800Z"
    },
    "executionInfo": {
     "elapsed": 2,
     "status": "ok",
     "timestamp": 1704878470462,
     "user": {
      "displayName": "Shreyanth Data Science",
      "userId": "07127992770184506420"
     },
     "user_tz": -330
    },
    "id": "64905b36",
    "outputId": "0736d08c-fc41-4eec-badb-9955ec21eefb",
    "papermill": {
     "duration": 0.018459,
     "end_time": "2022-11-29T15:49:16.879592",
     "exception": false,
     "start_time": "2022-11-29T15:49:16.861133",
     "status": "completed"
    },
    "tags": []
   },
   "outputs": [
    {
     "data": {
      "text/plain": [
       "['ID',\n",
       " 'Label (1 Ransomware / 0 Goodware)',\n",
       " 'Ransomware Family',\n",
       " 'API:GetSystemDirectoryA',\n",
       " 'API:WriteConsoleA']"
      ]
     },
     "execution_count": 7,
     "metadata": {},
     "output_type": "execute_result"
    }
   ],
   "source": [
    "columns[0:5]"
   ]
  },
  {
   "cell_type": "code",
   "execution_count": 8,
   "id": "608d7501",
   "metadata": {
    "execution": {
     "iopub.execute_input": "2022-11-29T15:49:16.895634Z",
     "iopub.status.busy": "2022-11-29T15:49:16.894777Z",
     "iopub.status.idle": "2022-11-29T15:49:35.333479Z",
     "shell.execute_reply": "2022-11-29T15:49:35.332344Z"
    },
    "executionInfo": {
     "elapsed": 17769,
     "status": "ok",
     "timestamp": 1704878490032,
     "user": {
      "displayName": "Shreyanth Data Science",
      "userId": "07127992770184506420"
     },
     "user_tz": -330
    },
    "id": "608d7501",
    "papermill": {
     "duration": 18.449916,
     "end_time": "2022-11-29T15:49:35.336413",
     "exception": false,
     "start_time": "2022-11-29T15:49:16.886497",
     "status": "completed"
    },
    "tags": []
   },
   "outputs": [],
   "source": [
    "data = pd.read_csv(INPUT_PATH + 'RansomwareData.csv', header=None,names=columns)"
   ]
  },
  {
   "cell_type": "code",
   "execution_count": 9,
   "id": "cce2524e",
   "metadata": {
    "colab": {
     "base_uri": "https://localhost:8080/"
    },
    "execution": {
     "iopub.execute_input": "2022-11-29T15:49:35.355472Z",
     "iopub.status.busy": "2022-11-29T15:49:35.354989Z",
     "iopub.status.idle": "2022-11-29T15:49:37.239423Z",
     "shell.execute_reply": "2022-11-29T15:49:37.238117Z"
    },
    "executionInfo": {
     "elapsed": 1794,
     "status": "ok",
     "timestamp": 1704878491824,
     "user": {
      "displayName": "Shreyanth Data Science",
      "userId": "07127992770184506420"
     },
     "user_tz": -330
    },
    "id": "cce2524e",
    "outputId": "1cd38a05-3d30-4a89-b49c-284fabcbba1d",
    "papermill": {
     "duration": 1.898068,
     "end_time": "2022-11-29T15:49:37.242000",
     "exception": false,
     "start_time": "2022-11-29T15:49:35.343932",
     "status": "completed"
    },
    "tags": []
   },
   "outputs": [
    {
     "name": "stdout",
     "output_type": "stream",
     "text": [
      "<class 'pandas.core.frame.DataFrame'>\n",
      "RangeIndex: 1524 entries, 0 to 1523\n",
      "Columns: 30970 entries, ID to STR:16267\n",
      "dtypes: int64(30970)\n",
      "memory usage: 360.1 MB\n"
     ]
    }
   ],
   "source": [
    "data.info()"
   ]
  },
  {
   "cell_type": "code",
   "execution_count": 10,
   "id": "5f1bcba6",
   "metadata": {
    "colab": {
     "base_uri": "https://localhost:8080/",
     "height": 308
    },
    "execution": {
     "iopub.execute_input": "2022-11-29T15:49:37.259409Z",
     "iopub.status.busy": "2022-11-29T15:49:37.258991Z",
     "iopub.status.idle": "2022-11-29T15:49:37.285607Z",
     "shell.execute_reply": "2022-11-29T15:49:37.284368Z"
    },
    "executionInfo": {
     "elapsed": 826,
     "status": "ok",
     "timestamp": 1704878509302,
     "user": {
      "displayName": "Shreyanth Data Science",
      "userId": "07127992770184506420"
     },
     "user_tz": -330
    },
    "id": "5f1bcba6",
    "outputId": "2b38e32b-db8c-4706-df6b-c7745f21b21b",
    "papermill": {
     "duration": 0.038893,
     "end_time": "2022-11-29T15:49:37.288472",
     "exception": false,
     "start_time": "2022-11-29T15:49:37.249579",
     "status": "completed"
    },
    "tags": []
   },
   "outputs": [
    {
     "data": {
      "text/html": [
       "<div>\n",
       "<style scoped>\n",
       "    .dataframe tbody tr th:only-of-type {\n",
       "        vertical-align: middle;\n",
       "    }\n",
       "\n",
       "    .dataframe tbody tr th {\n",
       "        vertical-align: top;\n",
       "    }\n",
       "\n",
       "    .dataframe thead th {\n",
       "        text-align: right;\n",
       "    }\n",
       "</style>\n",
       "<table border=\"1\" class=\"dataframe\">\n",
       "  <thead>\n",
       "    <tr style=\"text-align: right;\">\n",
       "      <th></th>\n",
       "      <th>ID</th>\n",
       "      <th>Label (1 Ransomware / 0 Goodware)</th>\n",
       "      <th>Ransomware Family</th>\n",
       "      <th>API:GetSystemDirectoryA</th>\n",
       "      <th>API:WriteConsoleA</th>\n",
       "      <th>API:NtOpenFile</th>\n",
       "      <th>API:NtCreateProcessEx</th>\n",
       "      <th>API:GetSystemInfo</th>\n",
       "      <th>API:WriteConsoleW</th>\n",
       "      <th>API:NtReadVirtualMemory</th>\n",
       "      <th>...</th>\n",
       "      <th>STR:16258</th>\n",
       "      <th>STR:16259</th>\n",
       "      <th>STR:16260</th>\n",
       "      <th>STR:16261</th>\n",
       "      <th>STR:16262</th>\n",
       "      <th>STR:16263</th>\n",
       "      <th>STR:16264</th>\n",
       "      <th>STR:16265</th>\n",
       "      <th>STR:16266</th>\n",
       "      <th>STR:16267</th>\n",
       "    </tr>\n",
       "  </thead>\n",
       "  <tbody>\n",
       "    <tr>\n",
       "      <th>0</th>\n",
       "      <td>10001</td>\n",
       "      <td>1</td>\n",
       "      <td>2</td>\n",
       "      <td>0</td>\n",
       "      <td>0</td>\n",
       "      <td>0</td>\n",
       "      <td>0</td>\n",
       "      <td>0</td>\n",
       "      <td>0</td>\n",
       "      <td>0</td>\n",
       "      <td>...</td>\n",
       "      <td>0</td>\n",
       "      <td>0</td>\n",
       "      <td>0</td>\n",
       "      <td>0</td>\n",
       "      <td>0</td>\n",
       "      <td>0</td>\n",
       "      <td>0</td>\n",
       "      <td>0</td>\n",
       "      <td>0</td>\n",
       "      <td>0</td>\n",
       "    </tr>\n",
       "    <tr>\n",
       "      <th>1</th>\n",
       "      <td>10002</td>\n",
       "      <td>1</td>\n",
       "      <td>3</td>\n",
       "      <td>1</td>\n",
       "      <td>0</td>\n",
       "      <td>1</td>\n",
       "      <td>0</td>\n",
       "      <td>1</td>\n",
       "      <td>0</td>\n",
       "      <td>1</td>\n",
       "      <td>...</td>\n",
       "      <td>0</td>\n",
       "      <td>0</td>\n",
       "      <td>0</td>\n",
       "      <td>0</td>\n",
       "      <td>0</td>\n",
       "      <td>0</td>\n",
       "      <td>0</td>\n",
       "      <td>0</td>\n",
       "      <td>0</td>\n",
       "      <td>0</td>\n",
       "    </tr>\n",
       "    <tr>\n",
       "      <th>2</th>\n",
       "      <td>10003</td>\n",
       "      <td>1</td>\n",
       "      <td>2</td>\n",
       "      <td>0</td>\n",
       "      <td>0</td>\n",
       "      <td>0</td>\n",
       "      <td>0</td>\n",
       "      <td>0</td>\n",
       "      <td>0</td>\n",
       "      <td>0</td>\n",
       "      <td>...</td>\n",
       "      <td>0</td>\n",
       "      <td>0</td>\n",
       "      <td>0</td>\n",
       "      <td>0</td>\n",
       "      <td>0</td>\n",
       "      <td>0</td>\n",
       "      <td>0</td>\n",
       "      <td>0</td>\n",
       "      <td>0</td>\n",
       "      <td>0</td>\n",
       "    </tr>\n",
       "    <tr>\n",
       "      <th>3</th>\n",
       "      <td>10005</td>\n",
       "      <td>1</td>\n",
       "      <td>5</td>\n",
       "      <td>0</td>\n",
       "      <td>0</td>\n",
       "      <td>0</td>\n",
       "      <td>0</td>\n",
       "      <td>1</td>\n",
       "      <td>0</td>\n",
       "      <td>0</td>\n",
       "      <td>...</td>\n",
       "      <td>0</td>\n",
       "      <td>0</td>\n",
       "      <td>0</td>\n",
       "      <td>0</td>\n",
       "      <td>0</td>\n",
       "      <td>0</td>\n",
       "      <td>0</td>\n",
       "      <td>0</td>\n",
       "      <td>0</td>\n",
       "      <td>0</td>\n",
       "    </tr>\n",
       "    <tr>\n",
       "      <th>4</th>\n",
       "      <td>10006</td>\n",
       "      <td>1</td>\n",
       "      <td>7</td>\n",
       "      <td>1</td>\n",
       "      <td>0</td>\n",
       "      <td>1</td>\n",
       "      <td>0</td>\n",
       "      <td>0</td>\n",
       "      <td>1</td>\n",
       "      <td>1</td>\n",
       "      <td>...</td>\n",
       "      <td>0</td>\n",
       "      <td>0</td>\n",
       "      <td>0</td>\n",
       "      <td>0</td>\n",
       "      <td>0</td>\n",
       "      <td>0</td>\n",
       "      <td>0</td>\n",
       "      <td>0</td>\n",
       "      <td>0</td>\n",
       "      <td>0</td>\n",
       "    </tr>\n",
       "  </tbody>\n",
       "</table>\n",
       "<p>5 rows × 30970 columns</p>\n",
       "</div>"
      ],
      "text/plain": [
       "      ID  Label (1 Ransomware / 0 Goodware)  Ransomware Family  \\\n",
       "0  10001                                  1                  2   \n",
       "1  10002                                  1                  3   \n",
       "2  10003                                  1                  2   \n",
       "3  10005                                  1                  5   \n",
       "4  10006                                  1                  7   \n",
       "\n",
       "   API:GetSystemDirectoryA  API:WriteConsoleA  API:NtOpenFile  \\\n",
       "0                        0                  0               0   \n",
       "1                        1                  0               1   \n",
       "2                        0                  0               0   \n",
       "3                        0                  0               0   \n",
       "4                        1                  0               1   \n",
       "\n",
       "   API:NtCreateProcessEx  API:GetSystemInfo  API:WriteConsoleW  \\\n",
       "0                      0                  0                  0   \n",
       "1                      0                  1                  0   \n",
       "2                      0                  0                  0   \n",
       "3                      0                  1                  0   \n",
       "4                      0                  0                  1   \n",
       "\n",
       "   API:NtReadVirtualMemory  ...  STR:16258  STR:16259  STR:16260  STR:16261  \\\n",
       "0                        0  ...          0          0          0          0   \n",
       "1                        1  ...          0          0          0          0   \n",
       "2                        0  ...          0          0          0          0   \n",
       "3                        0  ...          0          0          0          0   \n",
       "4                        1  ...          0          0          0          0   \n",
       "\n",
       "   STR:16262  STR:16263  STR:16264  STR:16265  STR:16266  STR:16267  \n",
       "0          0          0          0          0          0          0  \n",
       "1          0          0          0          0          0          0  \n",
       "2          0          0          0          0          0          0  \n",
       "3          0          0          0          0          0          0  \n",
       "4          0          0          0          0          0          0  \n",
       "\n",
       "[5 rows x 30970 columns]"
      ]
     },
     "execution_count": 10,
     "metadata": {},
     "output_type": "execute_result"
    }
   ],
   "source": [
    "data.head()"
   ]
  },
  {
   "cell_type": "code",
   "execution_count": 11,
   "id": "b187a5aa",
   "metadata": {
    "execution": {
     "iopub.execute_input": "2022-11-29T15:49:37.306266Z",
     "iopub.status.busy": "2022-11-29T15:49:37.305643Z",
     "iopub.status.idle": "2022-11-29T15:49:37.568642Z",
     "shell.execute_reply": "2022-11-29T15:49:37.567466Z"
    },
    "executionInfo": {
     "elapsed": 2,
     "status": "ok",
     "timestamp": 1704878511705,
     "user": {
      "displayName": "Shreyanth Data Science",
      "userId": "07127992770184506420"
     },
     "user_tz": -330
    },
    "id": "b187a5aa",
    "papermill": {
     "duration": 0.274744,
     "end_time": "2022-11-29T15:49:37.571499",
     "exception": false,
     "start_time": "2022-11-29T15:49:37.296755",
     "status": "completed"
    },
    "tags": []
   },
   "outputs": [],
   "source": [
    "#drop features that are all 0\n",
    "data = data.loc[:, (data != 0).any(axis=0)]"
   ]
  },
  {
   "cell_type": "code",
   "execution_count": 12,
   "id": "b2d2d595",
   "metadata": {
    "colab": {
     "base_uri": "https://localhost:8080/"
    },
    "execution": {
     "iopub.execute_input": "2022-11-29T15:49:37.588231Z",
     "iopub.status.busy": "2022-11-29T15:49:37.587641Z",
     "iopub.status.idle": "2022-11-29T15:49:38.858077Z",
     "shell.execute_reply": "2022-11-29T15:49:38.857221Z"
    },
    "executionInfo": {
     "elapsed": 1551,
     "status": "ok",
     "timestamp": 1704878517878,
     "user": {
      "displayName": "Shreyanth Data Science",
      "userId": "07127992770184506420"
     },
     "user_tz": -330
    },
    "id": "b2d2d595",
    "outputId": "2e03b228-3abd-4653-d468-0f09adda7d48",
    "papermill": {
     "duration": 1.28271,
     "end_time": "2022-11-29T15:49:38.861524",
     "exception": false,
     "start_time": "2022-11-29T15:49:37.578814",
     "status": "completed"
    },
    "tags": []
   },
   "outputs": [
    {
     "name": "stdout",
     "output_type": "stream",
     "text": [
      "<class 'pandas.core.frame.DataFrame'>\n",
      "RangeIndex: 1524 entries, 0 to 1523\n",
      "Columns: 23619 entries, ID to STR:16267\n",
      "dtypes: int64(23619)\n",
      "memory usage: 274.6 MB\n"
     ]
    }
   ],
   "source": [
    "data.info()"
   ]
  },
  {
   "cell_type": "code",
   "execution_count": 13,
   "id": "Doy039vvo1ZT",
   "metadata": {
    "executionInfo": {
     "elapsed": 2,
     "status": "ok",
     "timestamp": 1704878517878,
     "user": {
      "displayName": "Shreyanth Data Science",
      "userId": "07127992770184506420"
     },
     "user_tz": -330
    },
    "id": "Doy039vvo1ZT"
   },
   "outputs": [],
   "source": [
    "#seperate data to data_ransomware and data_goodware\n",
    "data_ransomware = data.loc[(data['Label (1 Ransomware / 0 Goodware)'] == 1)]\n",
    "data_goodware = data.loc[(data['Label (1 Ransomware / 0 Goodware)'] == 0)]"
   ]
  },
  {
   "cell_type": "code",
   "execution_count": 14,
   "id": "L_gKebHmo1cc",
   "metadata": {
    "executionInfo": {
     "elapsed": 452,
     "status": "ok",
     "timestamp": 1704878521111,
     "user": {
      "displayName": "Shreyanth Data Science",
      "userId": "07127992770184506420"
     },
     "user_tz": -330
    },
    "id": "L_gKebHmo1cc"
   },
   "outputs": [],
   "source": [
    "#drop features that are all 0\n",
    "data_ransomware = data_ransomware.loc[:, (data_ransomware != 0).any(axis=0)]\n",
    "data_goodware = data_goodware.loc[:, (data_goodware != 0).any(axis=0)]"
   ]
  },
  {
   "cell_type": "code",
   "execution_count": 15,
   "id": "cmy7Lh-po1fS",
   "metadata": {
    "colab": {
     "base_uri": "https://localhost:8080/"
    },
    "executionInfo": {
     "elapsed": 2,
     "status": "ok",
     "timestamp": 1704878521111,
     "user": {
      "displayName": "Shreyanth Data Science",
      "userId": "07127992770184506420"
     },
     "user_tz": -330
    },
    "id": "cmy7Lh-po1fS",
    "outputId": "81e15dd0-1a02-48f9-ead1-10c5f9ce16c4"
   },
   "outputs": [
    {
     "name": "stdout",
     "output_type": "stream",
     "text": [
      "<class 'pandas.core.frame.DataFrame'>\n",
      "Index: 582 entries, 0 to 581\n",
      "Columns: 3412 entries, ID to STR:16240\n",
      "dtypes: int64(3412)\n",
      "memory usage: 15.2 MB\n"
     ]
    }
   ],
   "source": [
    "data_ransomware.info()"
   ]
  },
  {
   "cell_type": "code",
   "execution_count": 16,
   "id": "11Lf6oVIo1h6",
   "metadata": {
    "colab": {
     "base_uri": "https://localhost:8080/",
     "height": 402
    },
    "executionInfo": {
     "elapsed": 7172,
     "status": "ok",
     "timestamp": 1704878528677,
     "user": {
      "displayName": "Shreyanth Data Science",
      "userId": "07127992770184506420"
     },
     "user_tz": -330
    },
    "id": "11Lf6oVIo1h6",
    "outputId": "25824c77-c44c-45d6-a7b0-2d9d4fb5289c"
   },
   "outputs": [
    {
     "data": {
      "text/html": [
       "<div>\n",
       "<style scoped>\n",
       "    .dataframe tbody tr th:only-of-type {\n",
       "        vertical-align: middle;\n",
       "    }\n",
       "\n",
       "    .dataframe tbody tr th {\n",
       "        vertical-align: top;\n",
       "    }\n",
       "\n",
       "    .dataframe thead th {\n",
       "        text-align: right;\n",
       "    }\n",
       "</style>\n",
       "<table border=\"1\" class=\"dataframe\">\n",
       "  <thead>\n",
       "    <tr style=\"text-align: right;\">\n",
       "      <th></th>\n",
       "      <th>ID</th>\n",
       "      <th>Label (1 Ransomware / 0 Goodware)</th>\n",
       "      <th>Ransomware Family</th>\n",
       "      <th>API:GetSystemDirectoryA</th>\n",
       "      <th>API:NtOpenFile</th>\n",
       "      <th>API:NtCreateProcessEx</th>\n",
       "      <th>API:GetSystemInfo</th>\n",
       "      <th>API:WriteConsoleW</th>\n",
       "      <th>API:NtReadVirtualMemory</th>\n",
       "      <th>API:RemoveDirectoryA</th>\n",
       "      <th>...</th>\n",
       "      <th>STR:16011</th>\n",
       "      <th>STR:16042</th>\n",
       "      <th>STR:16047</th>\n",
       "      <th>STR:16142</th>\n",
       "      <th>STR:16146</th>\n",
       "      <th>STR:16173</th>\n",
       "      <th>STR:16182</th>\n",
       "      <th>STR:16211</th>\n",
       "      <th>STR:16226</th>\n",
       "      <th>STR:16240</th>\n",
       "    </tr>\n",
       "  </thead>\n",
       "  <tbody>\n",
       "    <tr>\n",
       "      <th>count</th>\n",
       "      <td>582.000000</td>\n",
       "      <td>582.0</td>\n",
       "      <td>582.000000</td>\n",
       "      <td>582.000000</td>\n",
       "      <td>582.000000</td>\n",
       "      <td>582.000000</td>\n",
       "      <td>582.000000</td>\n",
       "      <td>582.000000</td>\n",
       "      <td>582.000000</td>\n",
       "      <td>582.000000</td>\n",
       "      <td>...</td>\n",
       "      <td>582.000000</td>\n",
       "      <td>582.000000</td>\n",
       "      <td>582.000000</td>\n",
       "      <td>582.000000</td>\n",
       "      <td>582.000000</td>\n",
       "      <td>582.000000</td>\n",
       "      <td>582.000000</td>\n",
       "      <td>582.000000</td>\n",
       "      <td>582.000000</td>\n",
       "      <td>582.000000</td>\n",
       "    </tr>\n",
       "    <tr>\n",
       "      <th>mean</th>\n",
       "      <td>10606.836770</td>\n",
       "      <td>1.0</td>\n",
       "      <td>5.314433</td>\n",
       "      <td>0.264605</td>\n",
       "      <td>0.537801</td>\n",
       "      <td>0.005155</td>\n",
       "      <td>0.326460</td>\n",
       "      <td>0.054983</td>\n",
       "      <td>0.170103</td>\n",
       "      <td>0.010309</td>\n",
       "      <td>...</td>\n",
       "      <td>0.001718</td>\n",
       "      <td>0.001718</td>\n",
       "      <td>0.001718</td>\n",
       "      <td>0.001718</td>\n",
       "      <td>0.001718</td>\n",
       "      <td>0.001718</td>\n",
       "      <td>0.003436</td>\n",
       "      <td>0.003436</td>\n",
       "      <td>0.001718</td>\n",
       "      <td>0.001718</td>\n",
       "    </tr>\n",
       "    <tr>\n",
       "      <th>std</th>\n",
       "      <td>350.289876</td>\n",
       "      <td>0.0</td>\n",
       "      <td>2.962026</td>\n",
       "      <td>0.441502</td>\n",
       "      <td>0.498998</td>\n",
       "      <td>0.071672</td>\n",
       "      <td>0.469321</td>\n",
       "      <td>0.228143</td>\n",
       "      <td>0.376047</td>\n",
       "      <td>0.101097</td>\n",
       "      <td>...</td>\n",
       "      <td>0.041451</td>\n",
       "      <td>0.041451</td>\n",
       "      <td>0.041451</td>\n",
       "      <td>0.041451</td>\n",
       "      <td>0.041451</td>\n",
       "      <td>0.041451</td>\n",
       "      <td>0.058571</td>\n",
       "      <td>0.058571</td>\n",
       "      <td>0.041451</td>\n",
       "      <td>0.041451</td>\n",
       "    </tr>\n",
       "    <tr>\n",
       "      <th>min</th>\n",
       "      <td>10001.000000</td>\n",
       "      <td>1.0</td>\n",
       "      <td>1.000000</td>\n",
       "      <td>0.000000</td>\n",
       "      <td>0.000000</td>\n",
       "      <td>0.000000</td>\n",
       "      <td>0.000000</td>\n",
       "      <td>0.000000</td>\n",
       "      <td>0.000000</td>\n",
       "      <td>0.000000</td>\n",
       "      <td>...</td>\n",
       "      <td>0.000000</td>\n",
       "      <td>0.000000</td>\n",
       "      <td>0.000000</td>\n",
       "      <td>0.000000</td>\n",
       "      <td>0.000000</td>\n",
       "      <td>0.000000</td>\n",
       "      <td>0.000000</td>\n",
       "      <td>0.000000</td>\n",
       "      <td>0.000000</td>\n",
       "      <td>0.000000</td>\n",
       "    </tr>\n",
       "    <tr>\n",
       "      <th>25%</th>\n",
       "      <td>10306.250000</td>\n",
       "      <td>1.0</td>\n",
       "      <td>2.000000</td>\n",
       "      <td>0.000000</td>\n",
       "      <td>0.000000</td>\n",
       "      <td>0.000000</td>\n",
       "      <td>0.000000</td>\n",
       "      <td>0.000000</td>\n",
       "      <td>0.000000</td>\n",
       "      <td>0.000000</td>\n",
       "      <td>...</td>\n",
       "      <td>0.000000</td>\n",
       "      <td>0.000000</td>\n",
       "      <td>0.000000</td>\n",
       "      <td>0.000000</td>\n",
       "      <td>0.000000</td>\n",
       "      <td>0.000000</td>\n",
       "      <td>0.000000</td>\n",
       "      <td>0.000000</td>\n",
       "      <td>0.000000</td>\n",
       "      <td>0.000000</td>\n",
       "    </tr>\n",
       "    <tr>\n",
       "      <th>50%</th>\n",
       "      <td>10591.000000</td>\n",
       "      <td>1.0</td>\n",
       "      <td>5.000000</td>\n",
       "      <td>0.000000</td>\n",
       "      <td>1.000000</td>\n",
       "      <td>0.000000</td>\n",
       "      <td>0.000000</td>\n",
       "      <td>0.000000</td>\n",
       "      <td>0.000000</td>\n",
       "      <td>0.000000</td>\n",
       "      <td>...</td>\n",
       "      <td>0.000000</td>\n",
       "      <td>0.000000</td>\n",
       "      <td>0.000000</td>\n",
       "      <td>0.000000</td>\n",
       "      <td>0.000000</td>\n",
       "      <td>0.000000</td>\n",
       "      <td>0.000000</td>\n",
       "      <td>0.000000</td>\n",
       "      <td>0.000000</td>\n",
       "      <td>0.000000</td>\n",
       "    </tr>\n",
       "    <tr>\n",
       "      <th>75%</th>\n",
       "      <td>10914.750000</td>\n",
       "      <td>1.0</td>\n",
       "      <td>7.000000</td>\n",
       "      <td>1.000000</td>\n",
       "      <td>1.000000</td>\n",
       "      <td>0.000000</td>\n",
       "      <td>1.000000</td>\n",
       "      <td>0.000000</td>\n",
       "      <td>0.000000</td>\n",
       "      <td>0.000000</td>\n",
       "      <td>...</td>\n",
       "      <td>0.000000</td>\n",
       "      <td>0.000000</td>\n",
       "      <td>0.000000</td>\n",
       "      <td>0.000000</td>\n",
       "      <td>0.000000</td>\n",
       "      <td>0.000000</td>\n",
       "      <td>0.000000</td>\n",
       "      <td>0.000000</td>\n",
       "      <td>0.000000</td>\n",
       "      <td>0.000000</td>\n",
       "    </tr>\n",
       "    <tr>\n",
       "      <th>max</th>\n",
       "      <td>11221.000000</td>\n",
       "      <td>1.0</td>\n",
       "      <td>11.000000</td>\n",
       "      <td>1.000000</td>\n",
       "      <td>1.000000</td>\n",
       "      <td>1.000000</td>\n",
       "      <td>1.000000</td>\n",
       "      <td>1.000000</td>\n",
       "      <td>1.000000</td>\n",
       "      <td>1.000000</td>\n",
       "      <td>...</td>\n",
       "      <td>1.000000</td>\n",
       "      <td>1.000000</td>\n",
       "      <td>1.000000</td>\n",
       "      <td>1.000000</td>\n",
       "      <td>1.000000</td>\n",
       "      <td>1.000000</td>\n",
       "      <td>1.000000</td>\n",
       "      <td>1.000000</td>\n",
       "      <td>1.000000</td>\n",
       "      <td>1.000000</td>\n",
       "    </tr>\n",
       "  </tbody>\n",
       "</table>\n",
       "<p>8 rows × 3412 columns</p>\n",
       "</div>"
      ],
      "text/plain": [
       "                 ID  Label (1 Ransomware / 0 Goodware)  Ransomware Family  \\\n",
       "count    582.000000                              582.0         582.000000   \n",
       "mean   10606.836770                                1.0           5.314433   \n",
       "std      350.289876                                0.0           2.962026   \n",
       "min    10001.000000                                1.0           1.000000   \n",
       "25%    10306.250000                                1.0           2.000000   \n",
       "50%    10591.000000                                1.0           5.000000   \n",
       "75%    10914.750000                                1.0           7.000000   \n",
       "max    11221.000000                                1.0          11.000000   \n",
       "\n",
       "       API:GetSystemDirectoryA  API:NtOpenFile  API:NtCreateProcessEx  \\\n",
       "count               582.000000      582.000000             582.000000   \n",
       "mean                  0.264605        0.537801               0.005155   \n",
       "std                   0.441502        0.498998               0.071672   \n",
       "min                   0.000000        0.000000               0.000000   \n",
       "25%                   0.000000        0.000000               0.000000   \n",
       "50%                   0.000000        1.000000               0.000000   \n",
       "75%                   1.000000        1.000000               0.000000   \n",
       "max                   1.000000        1.000000               1.000000   \n",
       "\n",
       "       API:GetSystemInfo  API:WriteConsoleW  API:NtReadVirtualMemory  \\\n",
       "count         582.000000         582.000000               582.000000   \n",
       "mean            0.326460           0.054983                 0.170103   \n",
       "std             0.469321           0.228143                 0.376047   \n",
       "min             0.000000           0.000000                 0.000000   \n",
       "25%             0.000000           0.000000                 0.000000   \n",
       "50%             0.000000           0.000000                 0.000000   \n",
       "75%             1.000000           0.000000                 0.000000   \n",
       "max             1.000000           1.000000                 1.000000   \n",
       "\n",
       "       API:RemoveDirectoryA  ...   STR:16011   STR:16042   STR:16047  \\\n",
       "count            582.000000  ...  582.000000  582.000000  582.000000   \n",
       "mean               0.010309  ...    0.001718    0.001718    0.001718   \n",
       "std                0.101097  ...    0.041451    0.041451    0.041451   \n",
       "min                0.000000  ...    0.000000    0.000000    0.000000   \n",
       "25%                0.000000  ...    0.000000    0.000000    0.000000   \n",
       "50%                0.000000  ...    0.000000    0.000000    0.000000   \n",
       "75%                0.000000  ...    0.000000    0.000000    0.000000   \n",
       "max                1.000000  ...    1.000000    1.000000    1.000000   \n",
       "\n",
       "        STR:16142   STR:16146   STR:16173   STR:16182   STR:16211   STR:16226  \\\n",
       "count  582.000000  582.000000  582.000000  582.000000  582.000000  582.000000   \n",
       "mean     0.001718    0.001718    0.001718    0.003436    0.003436    0.001718   \n",
       "std      0.041451    0.041451    0.041451    0.058571    0.058571    0.041451   \n",
       "min      0.000000    0.000000    0.000000    0.000000    0.000000    0.000000   \n",
       "25%      0.000000    0.000000    0.000000    0.000000    0.000000    0.000000   \n",
       "50%      0.000000    0.000000    0.000000    0.000000    0.000000    0.000000   \n",
       "75%      0.000000    0.000000    0.000000    0.000000    0.000000    0.000000   \n",
       "max      1.000000    1.000000    1.000000    1.000000    1.000000    1.000000   \n",
       "\n",
       "        STR:16240  \n",
       "count  582.000000  \n",
       "mean     0.001718  \n",
       "std      0.041451  \n",
       "min      0.000000  \n",
       "25%      0.000000  \n",
       "50%      0.000000  \n",
       "75%      0.000000  \n",
       "max      1.000000  \n",
       "\n",
       "[8 rows x 3412 columns]"
      ]
     },
     "execution_count": 16,
     "metadata": {},
     "output_type": "execute_result"
    }
   ],
   "source": [
    "data_ransomware.describe()"
   ]
  },
  {
   "cell_type": "code",
   "execution_count": 17,
   "id": "0ZNOMpZuo1ky",
   "metadata": {
    "colab": {
     "base_uri": "https://localhost:8080/"
    },
    "executionInfo": {
     "elapsed": 1289,
     "status": "ok",
     "timestamp": 1704878529962,
     "user": {
      "displayName": "Shreyanth Data Science",
      "userId": "07127992770184506420"
     },
     "user_tz": -330
    },
    "id": "0ZNOMpZuo1ky",
    "outputId": "77863c97-e7af-4b63-9e79-f8b0925d3b83"
   },
   "outputs": [
    {
     "name": "stdout",
     "output_type": "stream",
     "text": [
      "<class 'pandas.core.frame.DataFrame'>\n",
      "Index: 942 entries, 582 to 1523\n",
      "Columns: 21504 entries, ID to STR:16267\n",
      "dtypes: int64(21504)\n",
      "memory usage: 154.6 MB\n"
     ]
    }
   ],
   "source": [
    "data_goodware.info()"
   ]
  },
  {
   "cell_type": "code",
   "execution_count": 18,
   "id": "FykQdoj8o1n6",
   "metadata": {
    "colab": {
     "base_uri": "https://localhost:8080/",
     "height": 350
    },
    "executionInfo": {
     "elapsed": 58746,
     "status": "ok",
     "timestamp": 1704878588705,
     "user": {
      "displayName": "Shreyanth Data Science",
      "userId": "07127992770184506420"
     },
     "user_tz": -330
    },
    "id": "FykQdoj8o1n6",
    "outputId": "5029674a-7840-4a7d-d4fd-53d18aa843a6"
   },
   "outputs": [
    {
     "data": {
      "text/html": [
       "<div>\n",
       "<style scoped>\n",
       "    .dataframe tbody tr th:only-of-type {\n",
       "        vertical-align: middle;\n",
       "    }\n",
       "\n",
       "    .dataframe tbody tr th {\n",
       "        vertical-align: top;\n",
       "    }\n",
       "\n",
       "    .dataframe thead th {\n",
       "        text-align: right;\n",
       "    }\n",
       "</style>\n",
       "<table border=\"1\" class=\"dataframe\">\n",
       "  <thead>\n",
       "    <tr style=\"text-align: right;\">\n",
       "      <th></th>\n",
       "      <th>ID</th>\n",
       "      <th>API:GetSystemDirectoryA</th>\n",
       "      <th>API:WriteConsoleA</th>\n",
       "      <th>API:NtOpenFile</th>\n",
       "      <th>API:GetSystemInfo</th>\n",
       "      <th>API:WriteConsoleW</th>\n",
       "      <th>API:NtReadVirtualMemory</th>\n",
       "      <th>API:RemoveDirectoryA</th>\n",
       "      <th>API:GetKeyState</th>\n",
       "      <th>API:NtQueryKey</th>\n",
       "      <th>...</th>\n",
       "      <th>STR:16247</th>\n",
       "      <th>STR:16252</th>\n",
       "      <th>STR:16253</th>\n",
       "      <th>STR:16255</th>\n",
       "      <th>STR:16256</th>\n",
       "      <th>STR:16259</th>\n",
       "      <th>STR:16260</th>\n",
       "      <th>STR:16261</th>\n",
       "      <th>STR:16264</th>\n",
       "      <th>STR:16267</th>\n",
       "    </tr>\n",
       "  </thead>\n",
       "  <tbody>\n",
       "    <tr>\n",
       "      <th>count</th>\n",
       "      <td>942.000000</td>\n",
       "      <td>942.000000</td>\n",
       "      <td>942.000000</td>\n",
       "      <td>942.000000</td>\n",
       "      <td>942.000000</td>\n",
       "      <td>942.000000</td>\n",
       "      <td>942.000000</td>\n",
       "      <td>942.000000</td>\n",
       "      <td>942.000000</td>\n",
       "      <td>942.000000</td>\n",
       "      <td>...</td>\n",
       "      <td>942.000000</td>\n",
       "      <td>942.000000</td>\n",
       "      <td>942.000000</td>\n",
       "      <td>942.000000</td>\n",
       "      <td>942.000000</td>\n",
       "      <td>942.000000</td>\n",
       "      <td>942.000000</td>\n",
       "      <td>942.000000</td>\n",
       "      <td>942.000000</td>\n",
       "      <td>942.000000</td>\n",
       "    </tr>\n",
       "    <tr>\n",
       "      <th>mean</th>\n",
       "      <td>20629.182590</td>\n",
       "      <td>0.315287</td>\n",
       "      <td>0.005308</td>\n",
       "      <td>0.787686</td>\n",
       "      <td>0.636943</td>\n",
       "      <td>0.010616</td>\n",
       "      <td>0.718684</td>\n",
       "      <td>0.065817</td>\n",
       "      <td>0.409766</td>\n",
       "      <td>0.367304</td>\n",
       "      <td>...</td>\n",
       "      <td>0.001062</td>\n",
       "      <td>0.001062</td>\n",
       "      <td>0.001062</td>\n",
       "      <td>0.001062</td>\n",
       "      <td>0.001062</td>\n",
       "      <td>0.002123</td>\n",
       "      <td>0.001062</td>\n",
       "      <td>0.001062</td>\n",
       "      <td>0.001062</td>\n",
       "      <td>0.002123</td>\n",
       "    </tr>\n",
       "    <tr>\n",
       "      <th>std</th>\n",
       "      <td>361.939422</td>\n",
       "      <td>0.464877</td>\n",
       "      <td>0.072700</td>\n",
       "      <td>0.409163</td>\n",
       "      <td>0.481137</td>\n",
       "      <td>0.102539</td>\n",
       "      <td>0.449880</td>\n",
       "      <td>0.248094</td>\n",
       "      <td>0.492052</td>\n",
       "      <td>0.482326</td>\n",
       "      <td>...</td>\n",
       "      <td>0.032582</td>\n",
       "      <td>0.032582</td>\n",
       "      <td>0.032582</td>\n",
       "      <td>0.032582</td>\n",
       "      <td>0.032582</td>\n",
       "      <td>0.046053</td>\n",
       "      <td>0.032582</td>\n",
       "      <td>0.032582</td>\n",
       "      <td>0.032582</td>\n",
       "      <td>0.046053</td>\n",
       "    </tr>\n",
       "    <tr>\n",
       "      <th>min</th>\n",
       "      <td>20001.000000</td>\n",
       "      <td>0.000000</td>\n",
       "      <td>0.000000</td>\n",
       "      <td>0.000000</td>\n",
       "      <td>0.000000</td>\n",
       "      <td>0.000000</td>\n",
       "      <td>0.000000</td>\n",
       "      <td>0.000000</td>\n",
       "      <td>0.000000</td>\n",
       "      <td>0.000000</td>\n",
       "      <td>...</td>\n",
       "      <td>0.000000</td>\n",
       "      <td>0.000000</td>\n",
       "      <td>0.000000</td>\n",
       "      <td>0.000000</td>\n",
       "      <td>0.000000</td>\n",
       "      <td>0.000000</td>\n",
       "      <td>0.000000</td>\n",
       "      <td>0.000000</td>\n",
       "      <td>0.000000</td>\n",
       "      <td>0.000000</td>\n",
       "    </tr>\n",
       "    <tr>\n",
       "      <th>25%</th>\n",
       "      <td>20317.250000</td>\n",
       "      <td>0.000000</td>\n",
       "      <td>0.000000</td>\n",
       "      <td>1.000000</td>\n",
       "      <td>0.000000</td>\n",
       "      <td>0.000000</td>\n",
       "      <td>0.000000</td>\n",
       "      <td>0.000000</td>\n",
       "      <td>0.000000</td>\n",
       "      <td>0.000000</td>\n",
       "      <td>...</td>\n",
       "      <td>0.000000</td>\n",
       "      <td>0.000000</td>\n",
       "      <td>0.000000</td>\n",
       "      <td>0.000000</td>\n",
       "      <td>0.000000</td>\n",
       "      <td>0.000000</td>\n",
       "      <td>0.000000</td>\n",
       "      <td>0.000000</td>\n",
       "      <td>0.000000</td>\n",
       "      <td>0.000000</td>\n",
       "    </tr>\n",
       "    <tr>\n",
       "      <th>50%</th>\n",
       "      <td>20650.500000</td>\n",
       "      <td>0.000000</td>\n",
       "      <td>0.000000</td>\n",
       "      <td>1.000000</td>\n",
       "      <td>1.000000</td>\n",
       "      <td>0.000000</td>\n",
       "      <td>1.000000</td>\n",
       "      <td>0.000000</td>\n",
       "      <td>0.000000</td>\n",
       "      <td>0.000000</td>\n",
       "      <td>...</td>\n",
       "      <td>0.000000</td>\n",
       "      <td>0.000000</td>\n",
       "      <td>0.000000</td>\n",
       "      <td>0.000000</td>\n",
       "      <td>0.000000</td>\n",
       "      <td>0.000000</td>\n",
       "      <td>0.000000</td>\n",
       "      <td>0.000000</td>\n",
       "      <td>0.000000</td>\n",
       "      <td>0.000000</td>\n",
       "    </tr>\n",
       "    <tr>\n",
       "      <th>75%</th>\n",
       "      <td>20929.250000</td>\n",
       "      <td>1.000000</td>\n",
       "      <td>0.000000</td>\n",
       "      <td>1.000000</td>\n",
       "      <td>1.000000</td>\n",
       "      <td>0.000000</td>\n",
       "      <td>1.000000</td>\n",
       "      <td>0.000000</td>\n",
       "      <td>1.000000</td>\n",
       "      <td>1.000000</td>\n",
       "      <td>...</td>\n",
       "      <td>0.000000</td>\n",
       "      <td>0.000000</td>\n",
       "      <td>0.000000</td>\n",
       "      <td>0.000000</td>\n",
       "      <td>0.000000</td>\n",
       "      <td>0.000000</td>\n",
       "      <td>0.000000</td>\n",
       "      <td>0.000000</td>\n",
       "      <td>0.000000</td>\n",
       "      <td>0.000000</td>\n",
       "    </tr>\n",
       "    <tr>\n",
       "      <th>max</th>\n",
       "      <td>21259.000000</td>\n",
       "      <td>1.000000</td>\n",
       "      <td>1.000000</td>\n",
       "      <td>1.000000</td>\n",
       "      <td>1.000000</td>\n",
       "      <td>1.000000</td>\n",
       "      <td>1.000000</td>\n",
       "      <td>1.000000</td>\n",
       "      <td>1.000000</td>\n",
       "      <td>1.000000</td>\n",
       "      <td>...</td>\n",
       "      <td>1.000000</td>\n",
       "      <td>1.000000</td>\n",
       "      <td>1.000000</td>\n",
       "      <td>1.000000</td>\n",
       "      <td>1.000000</td>\n",
       "      <td>1.000000</td>\n",
       "      <td>1.000000</td>\n",
       "      <td>1.000000</td>\n",
       "      <td>1.000000</td>\n",
       "      <td>1.000000</td>\n",
       "    </tr>\n",
       "  </tbody>\n",
       "</table>\n",
       "<p>8 rows × 21504 columns</p>\n",
       "</div>"
      ],
      "text/plain": [
       "                 ID  API:GetSystemDirectoryA  API:WriteConsoleA  \\\n",
       "count    942.000000               942.000000         942.000000   \n",
       "mean   20629.182590                 0.315287           0.005308   \n",
       "std      361.939422                 0.464877           0.072700   \n",
       "min    20001.000000                 0.000000           0.000000   \n",
       "25%    20317.250000                 0.000000           0.000000   \n",
       "50%    20650.500000                 0.000000           0.000000   \n",
       "75%    20929.250000                 1.000000           0.000000   \n",
       "max    21259.000000                 1.000000           1.000000   \n",
       "\n",
       "       API:NtOpenFile  API:GetSystemInfo  API:WriteConsoleW  \\\n",
       "count      942.000000         942.000000         942.000000   \n",
       "mean         0.787686           0.636943           0.010616   \n",
       "std          0.409163           0.481137           0.102539   \n",
       "min          0.000000           0.000000           0.000000   \n",
       "25%          1.000000           0.000000           0.000000   \n",
       "50%          1.000000           1.000000           0.000000   \n",
       "75%          1.000000           1.000000           0.000000   \n",
       "max          1.000000           1.000000           1.000000   \n",
       "\n",
       "       API:NtReadVirtualMemory  API:RemoveDirectoryA  API:GetKeyState  \\\n",
       "count               942.000000            942.000000       942.000000   \n",
       "mean                  0.718684              0.065817         0.409766   \n",
       "std                   0.449880              0.248094         0.492052   \n",
       "min                   0.000000              0.000000         0.000000   \n",
       "25%                   0.000000              0.000000         0.000000   \n",
       "50%                   1.000000              0.000000         0.000000   \n",
       "75%                   1.000000              0.000000         1.000000   \n",
       "max                   1.000000              1.000000         1.000000   \n",
       "\n",
       "       API:NtQueryKey  ...   STR:16247   STR:16252   STR:16253   STR:16255  \\\n",
       "count      942.000000  ...  942.000000  942.000000  942.000000  942.000000   \n",
       "mean         0.367304  ...    0.001062    0.001062    0.001062    0.001062   \n",
       "std          0.482326  ...    0.032582    0.032582    0.032582    0.032582   \n",
       "min          0.000000  ...    0.000000    0.000000    0.000000    0.000000   \n",
       "25%          0.000000  ...    0.000000    0.000000    0.000000    0.000000   \n",
       "50%          0.000000  ...    0.000000    0.000000    0.000000    0.000000   \n",
       "75%          1.000000  ...    0.000000    0.000000    0.000000    0.000000   \n",
       "max          1.000000  ...    1.000000    1.000000    1.000000    1.000000   \n",
       "\n",
       "        STR:16256   STR:16259   STR:16260   STR:16261   STR:16264   STR:16267  \n",
       "count  942.000000  942.000000  942.000000  942.000000  942.000000  942.000000  \n",
       "mean     0.001062    0.002123    0.001062    0.001062    0.001062    0.002123  \n",
       "std      0.032582    0.046053    0.032582    0.032582    0.032582    0.046053  \n",
       "min      0.000000    0.000000    0.000000    0.000000    0.000000    0.000000  \n",
       "25%      0.000000    0.000000    0.000000    0.000000    0.000000    0.000000  \n",
       "50%      0.000000    0.000000    0.000000    0.000000    0.000000    0.000000  \n",
       "75%      0.000000    0.000000    0.000000    0.000000    0.000000    0.000000  \n",
       "max      1.000000    1.000000    1.000000    1.000000    1.000000    1.000000  \n",
       "\n",
       "[8 rows x 21504 columns]"
      ]
     },
     "execution_count": 18,
     "metadata": {},
     "output_type": "execute_result"
    }
   ],
   "source": [
    "data_goodware.describe()"
   ]
  },
  {
   "cell_type": "code",
   "execution_count": 20,
   "id": "XBpr3o2wo1wl",
   "metadata": {
    "colab": {
     "base_uri": "https://localhost:8080/"
    },
    "executionInfo": {
     "elapsed": 1378,
     "status": "ok",
     "timestamp": 1704878590079,
     "user": {
      "displayName": "Shreyanth Data Science",
      "userId": "07127992770184506420"
     },
     "user_tz": -330
    },
    "id": "XBpr3o2wo1wl",
    "outputId": "36277d9d-b725-42db-fb48-6e0f9b1cf7ec"
   },
   "outputs": [],
   "source": [
    "# Dictionary: feature -> total count for ransomware\n",
    "dic_ransomware = {}\n",
    "for columnName, columnData in data_ransomware.items():\n",
    "    dic_ransomware[columnName] = columnData.sum()\n",
    "\n",
    "# Safely remove keys if they exist\n",
    "dic_ransomware.pop('Ransomware Family', None)\n",
    "dic_ransomware.pop('Label (1 Ransomware / 0 Goodware)', None)\n",
    "\n",
    "# Dictionary: feature -> total count for goodware\n",
    "dic_goodware = {}\n",
    "for columnName, columnData in data_goodware.items():\n",
    "    dic_goodware[columnName] = columnData.sum()\n",
    "\n",
    "# Also safe pop for goodware (if needed)\n",
    "dic_goodware.pop('Ransomware Family', None)\n",
    "dic_goodware.pop('Label (1 Ransomware / 0 Goodware)', None)\n"
   ]
  },
  {
   "cell_type": "code",
   "execution_count": 21,
   "id": "mn2Vue0ApNpr",
   "metadata": {
    "executionInfo": {
     "elapsed": 6,
     "status": "ok",
     "timestamp": 1704878590079,
     "user": {
      "displayName": "Shreyanth Data Science",
      "userId": "07127992770184506420"
     },
     "user_tz": -330
    },
    "id": "mn2Vue0ApNpr"
   },
   "outputs": [],
   "source": [
    "#sort by count, desc\n",
    "sorted_dic_ransomware = sorted(dic_ransomware.items(),key = lambda x:x[1],reverse = True)\n",
    "sorted_dic_goodware = sorted(dic_goodware.items(),key = lambda x:x[1],reverse = True)"
   ]
  },
  {
   "cell_type": "code",
   "execution_count": 22,
   "id": "R149IsGSpNsQ",
   "metadata": {
    "colab": {
     "base_uri": "https://localhost:8080/"
    },
    "executionInfo": {
     "elapsed": 6,
     "status": "ok",
     "timestamp": 1704878590079,
     "user": {
      "displayName": "Shreyanth Data Science",
      "userId": "07127992770184506420"
     },
     "user_tz": -330
    },
    "id": "R149IsGSpNsQ",
    "outputId": "fab023a0-47de-4d5f-95c1-fed490c5fd9c"
   },
   "outputs": [
    {
     "name": "stdout",
     "output_type": "stream",
     "text": [
      "('ID', np.int64(6173179))\n",
      "('API:NtReadFile', np.int64(580))\n",
      "('API:NtClose', np.int64(580))\n",
      "('API:NtOpenKey', np.int64(579))\n",
      "('API:UuidCreate', np.int64(579))\n",
      "('API:NtQueryValueKey', np.int64(579))\n",
      "('API:NtWriteFile', np.int64(579))\n",
      "('REG:READ:HKEY_LOCAL_MACHINE\\\\SECURITY\\\\Policy\\\\SecDesc\\\\', np.int64(579))\n",
      "('API:CreateThread', np.int64(573))\n",
      "('API:NtDelayExecution', np.int64(571))\n",
      "('API:GetSystemTimeAsFileTime', np.int64(569))\n"
     ]
    }
   ],
   "source": [
    "# top 10 that ransomware do\n",
    "sorted_dic_ransomware_top10 = sorted_dic_ransomware[0:11]\n",
    "for var in sorted_dic_ransomware_top10:\n",
    "    print(var)"
   ]
  },
  {
   "cell_type": "code",
   "execution_count": 23,
   "id": "0kIxWl6LpNu6",
   "metadata": {
    "colab": {
     "base_uri": "https://localhost:8080/"
    },
    "executionInfo": {
     "elapsed": 5,
     "status": "ok",
     "timestamp": 1704878590079,
     "user": {
      "displayName": "Shreyanth Data Science",
      "userId": "07127992770184506420"
     },
     "user_tz": -330
    },
    "id": "0kIxWl6LpNu6",
    "outputId": "7db76197-8852-40a8-ab99-34b948335dd7"
   },
   "outputs": [
    {
     "name": "stdout",
     "output_type": "stream",
     "text": [
      "('ID', np.int64(19432690))\n",
      "('API:NtClose', np.int64(938))\n",
      "('API:NtReadFile', np.int64(934))\n",
      "('API:NtOpenKey', np.int64(932))\n",
      "('API:NtWriteFile', np.int64(932))\n",
      "('API:NtQueryValueKey', np.int64(931))\n",
      "('REG:READ:HKEY_LOCAL_MACHINE\\\\SECURITY\\\\Policy\\\\SecDesc\\\\', np.int64(931))\n",
      "('API:UuidCreate', np.int64(929))\n",
      "('API:CreateThread', np.int64(921))\n",
      "('API:GetSystemTimeAsFileTime', np.int64(921))\n",
      "('API:NtDelayExecution', np.int64(919))\n"
     ]
    }
   ],
   "source": [
    "# top 10 that goodmware do\n",
    "sorted_dic_goodware_top10 = sorted_dic_goodware[0:11]\n",
    "for var in sorted_dic_goodware_top10:\n",
    "    print(var)"
   ]
  },
  {
   "cell_type": "code",
   "execution_count": 24,
   "id": "5d3921c8",
   "metadata": {
    "colab": {
     "base_uri": "https://localhost:8080/"
    },
    "execution": {
     "iopub.execute_input": "2022-11-29T15:50:32.547958Z",
     "iopub.status.busy": "2022-11-29T15:50:32.547554Z",
     "iopub.status.idle": "2022-11-29T15:50:32.557184Z",
     "shell.execute_reply": "2022-11-29T15:50:32.555881Z"
    },
    "executionInfo": {
     "elapsed": 4,
     "status": "ok",
     "timestamp": 1704878590079,
     "user": {
      "displayName": "Shreyanth Data Science",
      "userId": "07127992770184506420"
     },
     "user_tz": -330
    },
    "id": "5d3921c8",
    "outputId": "5a8804f8-aeeb-4f57-9528-a4b42ef36309",
    "papermill": {
     "duration": 0.022178,
     "end_time": "2022-11-29T15:50:32.559658",
     "exception": false,
     "start_time": "2022-11-29T15:50:32.537480",
     "status": "completed"
    },
    "tags": []
   },
   "outputs": [
    {
     "data": {
      "text/plain": [
       "2113"
      ]
     },
     "execution_count": 24,
     "metadata": {},
     "output_type": "execute_result"
    }
   ],
   "source": [
    "#ransomware do but goodware not do\n",
    "set_diff_ransomware_only = dic_ransomware.keys() - dic_goodware.keys()\n",
    "len(set_diff_ransomware_only)"
   ]
  },
  {
   "cell_type": "code",
   "execution_count": 25,
   "id": "9761a2a3",
   "metadata": {
    "colab": {
     "base_uri": "https://localhost:8080/"
    },
    "execution": {
     "iopub.execute_input": "2022-11-29T15:50:32.580851Z",
     "iopub.status.busy": "2022-11-29T15:50:32.580292Z",
     "iopub.status.idle": "2022-11-29T15:50:32.590083Z",
     "shell.execute_reply": "2022-11-29T15:50:32.589254Z"
    },
    "executionInfo": {
     "elapsed": 4,
     "status": "ok",
     "timestamp": 1704878590079,
     "user": {
      "displayName": "Shreyanth Data Science",
      "userId": "07127992770184506420"
     },
     "user_tz": -330
    },
    "id": "9761a2a3",
    "outputId": "2a46620e-1089-4a54-8189-62311490d0dc",
    "papermill": {
     "duration": 0.023553,
     "end_time": "2022-11-29T15:50:32.592582",
     "exception": false,
     "start_time": "2022-11-29T15:50:32.569029",
     "status": "completed"
    },
    "tags": []
   },
   "outputs": [
    {
     "data": {
      "text/plain": [
       "20207"
      ]
     },
     "execution_count": 25,
     "metadata": {},
     "output_type": "execute_result"
    }
   ],
   "source": [
    "#goodware do but ransomware not do\n",
    "set_diff_goodware_only = dic_goodware.keys() - dic_ransomware.keys()\n",
    "len(set_diff_goodware_only)"
   ]
  },
  {
   "cell_type": "code",
   "execution_count": 27,
   "id": "03784d64",
   "metadata": {
    "colab": {
     "base_uri": "https://localhost:8080/"
    },
    "execution": {
     "iopub.execute_input": "2022-11-29T15:50:32.615854Z",
     "iopub.status.busy": "2022-11-29T15:50:32.615392Z",
     "iopub.status.idle": "2022-11-29T15:50:32.624768Z",
     "shell.execute_reply": "2022-11-29T15:50:32.623535Z"
    },
    "executionInfo": {
     "elapsed": 3,
     "status": "ok",
     "timestamp": 1704878590079,
     "user": {
      "displayName": "Shreyanth Data Science",
      "userId": "07127992770184506420"
     },
     "user_tz": -330
    },
    "id": "03784d64",
    "outputId": "b60c359f-4832-47aa-9e89-66491fb4f7bf",
    "papermill": {
     "duration": 0.024905,
     "end_time": "2022-11-29T15:50:32.627854",
     "exception": false,
     "start_time": "2022-11-29T15:50:32.602949",
     "status": "completed"
    },
    "scrolled": true,
    "tags": []
   },
   "outputs": [
    {
     "name": "stdout",
     "output_type": "stream",
     "text": [
      "0 :  REG:READ:HKEY_CURRENT_USER\\Software\\Microsoft\\Windows\\CurrentVersion\\Explorer\\MountPoints2\\CPC\\Volume\\{e7136b30-a421-11e5-b597-806d6172696f}\\ 60\n",
      "1 :  REG:WRITTEN:HKEY_CURRENT_USER\\Software\\Microsoft\\Windows\\CurrentVersion\\Explorer\\MountPoints2\\{e7136b30-a421-11e5-b597-806d6172696f}\\ 60\n",
      "2 :  API:RtlDecompressBuffer 42\n",
      "3 :  STR:7719 36\n",
      "4 :  STR:13633 34\n",
      "5 :  STR:12693 33\n",
      "6 :  REG:OPENED:HKEY_LOCAL_MACHINE\\SOFTWARE\\{12DA0E6F-5543-440C-BAA2-28BF01070AFA}\\_2e4fc70e\\ 28\n",
      "7 :  REG:OPENED:HKEY_CURRENT_USER\\SOFTWARE\\AppDataLow\\{12DA0E6F-5543-440C-BAA2-28BF01070AFA}\\ 28\n",
      "8 :  REG:OPENED:HKEY_CURRENT_USER\\SOFTWARE\\AppDataLow\\{12DA0E6F-5543-440C-BAA2-28BF01070AFA}\\_2e4fc70e\\ 28\n",
      "9 :  REG:OPENED:HKEY_LOCAL_MACHINE\\SOFTWARE\\8af35fd5-1a6a-db39-3f16-f360d0c45e1c\\ 28\n"
     ]
    }
   ],
   "source": [
    "# only ransomware do, top 10\n",
    "i = 0\n",
    "for var in sorted_dic_ransomware:\n",
    "    if i == 10:\n",
    "        break\n",
    "    if var[0] in set_diff_ransomware_only:\n",
    "        print(i, \": \", var[0], var[1])\n",
    "        i = i+1"
   ]
  },
  {
   "cell_type": "code",
   "execution_count": 28,
   "id": "0f7e429c",
   "metadata": {
    "colab": {
     "base_uri": "https://localhost:8080/"
    },
    "execution": {
     "iopub.execute_input": "2022-11-29T15:50:32.648321Z",
     "iopub.status.busy": "2022-11-29T15:50:32.647798Z",
     "iopub.status.idle": "2022-11-29T15:50:32.657423Z",
     "shell.execute_reply": "2022-11-29T15:50:32.655806Z"
    },
    "executionInfo": {
     "elapsed": 3,
     "status": "ok",
     "timestamp": 1704878590079,
     "user": {
      "displayName": "Shreyanth Data Science",
      "userId": "07127992770184506420"
     },
     "user_tz": -330
    },
    "id": "0f7e429c",
    "outputId": "c49dd895-2981-4d13-8046-c5deb1d222a3",
    "papermill": {
     "duration": 0.023747,
     "end_time": "2022-11-29T15:50:32.660945",
     "exception": false,
     "start_time": "2022-11-29T15:50:32.637198",
     "status": "completed"
    },
    "scrolled": true,
    "tags": []
   },
   "outputs": [
    {
     "name": "stdout",
     "output_type": "stream",
     "text": [
      "0 :  FILES_EXT:OPENED:msi 101\n",
      "1 :  FILES_EXT:WRITTEN:msi 101\n",
      "2 :  DROP:msi 99\n",
      "3 :  REG:OPENED:HKEY_LOCAL_MACHINE\\Software\\Classes\\Installer\\Products\\ 84\n",
      "4 :  DIR:ENUMERATED:C:\\Program Files\\MSECache\\ 83\n",
      "5 :  REG:OPENED:HKEY_LOCAL_MACHINE\\Software\\Microsoft\\Windows\\CurrentVersion\\Installer\\Managed\\S-1-5-21-2000478354-1606980848-1343024091-1003\\Installer\\Products\\ 81\n",
      "6 :  REG:OPENED:HKEY_CURRENT_USER\\Software\\Microsoft\\Installer\\Products\\ 81\n",
      "7 :  DROP:log 64\n",
      "8 :  REG:OPENED:HKEY_LOCAL_MACHINE\\Software\\Microsoft\\Windows\\CurrentVersion\\App Paths\\ 58\n",
      "9 :  FILES_EXT:READ:msi 57\n"
     ]
    }
   ],
   "source": [
    "# only goodware do, top 10\n",
    "i = 0\n",
    "for var in sorted_dic_goodware:\n",
    "    if i == 10:\n",
    "        break\n",
    "    if var[0] in set_diff_goodware_only:\n",
    "        print(i, \": \", var[0], var[1])\n",
    "        i = i+1"
   ]
  },
  {
   "cell_type": "code",
   "execution_count": 29,
   "id": "EI8DLSQKs_BK",
   "metadata": {
    "executionInfo": {
     "elapsed": 439,
     "status": "ok",
     "timestamp": 1704878599092,
     "user": {
      "displayName": "Shreyanth Data Science",
      "userId": "07127992770184506420"
     },
     "user_tz": -330
    },
    "id": "EI8DLSQKs_BK"
   },
   "outputs": [],
   "source": [
    "#rename this column data['Label (1 Ransomware / 0 Goodware)'] for label\n",
    "\n",
    "data.rename(columns={'Label (1 Ransomware / 0 Goodware)': 'label'}, inplace=True)\n"
   ]
  },
  {
   "cell_type": "code",
   "execution_count": 30,
   "id": "i2bEC0uGarnN",
   "metadata": {
    "executionInfo": {
     "elapsed": 22784,
     "status": "ok",
     "timestamp": 1704878623835,
     "user": {
      "displayName": "Shreyanth Data Science",
      "userId": "07127992770184506420"
     },
     "user_tz": -330
    },
    "id": "i2bEC0uGarnN"
   },
   "outputs": [],
   "source": [
    "data.to_csv('C:/Users/MYPC/Desktop/shivsaran/csv/Data.csv')\n",
    "\n"
   ]
  },
  {
   "cell_type": "code",
   "execution_count": 31,
   "id": "x49VfxHLRWIx",
   "metadata": {
    "executionInfo": {
     "elapsed": 1,
     "status": "ok",
     "timestamp": 1704878680647,
     "user": {
      "displayName": "Shreyanth Data Science",
      "userId": "07127992770184506420"
     },
     "user_tz": -330
    },
    "id": "x49VfxHLRWIx"
   },
   "outputs": [],
   "source": [
    "# prompt: data.columns datatype\n",
    "\n",
    "#This function, \"Missing_Values,\" analyzes a DataFrame's columns, collecting data on variable names,\n",
    "#data types, total values, missing values, and unique values. It returns a sorted summary of missing data.\n",
    "def Missing_Unique_datatypes_Values(data):\n",
    "    variable_name = []\n",
    "    total_value = []\n",
    "    total_missing_value = []\n",
    "    missing_value_rate = []\n",
    "    unique_value_list = []\n",
    "    total_unique_value = []\n",
    "    data_type = []\n",
    "\n",
    "    for col in data.columns:\n",
    "        variable_name.append(col)\n",
    "        data_type.append(data[col].dtype)\n",
    "        total_value.append(data[col].shape[0])\n",
    "        total_missing_value.append(data[col].isnull().sum())\n",
    "        missing_value_rate.append(round(data[col].isnull().sum()/data[col].shape[0],4))\n",
    "        unique_value_list.append(data[col].unique())\n",
    "        total_unique_value.append(len(data[col].unique()))\n",
    "\n",
    "    missing_data=pd.DataFrame({\"Variable\":variable_name,\\\n",
    "                               \"Total_Value\":total_value,\\\n",
    "                               \"Total_Missing_Value\":total_missing_value,\\\n",
    "                               \"%_Missing_Value_Rate\":missing_value_rate,\\\n",
    "                               \"Data_Type\":data_type,\"Unique_Value\":unique_value_list,\\\n",
    "                               \"Total_Unique_Value\":total_unique_value\n",
    "                              })\n",
    "\n",
    "    missing_data = missing_data.set_index(\"Variable\")\n",
    "    return missing_data.sort_values(\"Total_Missing_Value\",ascending=False)"
   ]
  },
  {
   "cell_type": "code",
   "execution_count": 32,
   "id": "TRG4x8duRbqb",
   "metadata": {
    "colab": {
     "base_uri": "https://localhost:8080/",
     "height": 666
    },
    "executionInfo": {
     "elapsed": 18734,
     "status": "ok",
     "timestamp": 1704878699839,
     "user": {
      "displayName": "Shreyanth Data Science",
      "userId": "07127992770184506420"
     },
     "user_tz": -330
    },
    "id": "TRG4x8duRbqb",
    "outputId": "6ff209ca-7636-4886-fd9e-a0588a1c81cf"
   },
   "outputs": [
    {
     "data": {
      "text/html": [
       "<div>\n",
       "<style scoped>\n",
       "    .dataframe tbody tr th:only-of-type {\n",
       "        vertical-align: middle;\n",
       "    }\n",
       "\n",
       "    .dataframe tbody tr th {\n",
       "        vertical-align: top;\n",
       "    }\n",
       "\n",
       "    .dataframe thead th {\n",
       "        text-align: right;\n",
       "    }\n",
       "</style>\n",
       "<table border=\"1\" class=\"dataframe\">\n",
       "  <thead>\n",
       "    <tr style=\"text-align: right;\">\n",
       "      <th></th>\n",
       "      <th>Total_Value</th>\n",
       "      <th>Total_Missing_Value</th>\n",
       "      <th>%_Missing_Value_Rate</th>\n",
       "      <th>Data_Type</th>\n",
       "      <th>Unique_Value</th>\n",
       "      <th>Total_Unique_Value</th>\n",
       "    </tr>\n",
       "    <tr>\n",
       "      <th>Variable</th>\n",
       "      <th></th>\n",
       "      <th></th>\n",
       "      <th></th>\n",
       "      <th></th>\n",
       "      <th></th>\n",
       "      <th></th>\n",
       "    </tr>\n",
       "  </thead>\n",
       "  <tbody>\n",
       "    <tr>\n",
       "      <th>STR:16267</th>\n",
       "      <td>1524</td>\n",
       "      <td>0</td>\n",
       "      <td>0.0</td>\n",
       "      <td>int64</td>\n",
       "      <td>[0, 1]</td>\n",
       "      <td>2</td>\n",
       "    </tr>\n",
       "    <tr>\n",
       "      <th>ID</th>\n",
       "      <td>1524</td>\n",
       "      <td>0</td>\n",
       "      <td>0.0</td>\n",
       "      <td>int64</td>\n",
       "      <td>[10001, 10002, 10003, 10005, 10006, 10007, 100...</td>\n",
       "      <td>1524</td>\n",
       "    </tr>\n",
       "    <tr>\n",
       "      <th>label</th>\n",
       "      <td>1524</td>\n",
       "      <td>0</td>\n",
       "      <td>0.0</td>\n",
       "      <td>int64</td>\n",
       "      <td>[1, 0]</td>\n",
       "      <td>2</td>\n",
       "    </tr>\n",
       "    <tr>\n",
       "      <th>STR:16238</th>\n",
       "      <td>1524</td>\n",
       "      <td>0</td>\n",
       "      <td>0.0</td>\n",
       "      <td>int64</td>\n",
       "      <td>[0, 1]</td>\n",
       "      <td>2</td>\n",
       "    </tr>\n",
       "    <tr>\n",
       "      <th>STR:16236</th>\n",
       "      <td>1524</td>\n",
       "      <td>0</td>\n",
       "      <td>0.0</td>\n",
       "      <td>int64</td>\n",
       "      <td>[0, 1]</td>\n",
       "      <td>2</td>\n",
       "    </tr>\n",
       "    <tr>\n",
       "      <th>...</th>\n",
       "      <td>...</td>\n",
       "      <td>...</td>\n",
       "      <td>...</td>\n",
       "      <td>...</td>\n",
       "      <td>...</td>\n",
       "      <td>...</td>\n",
       "    </tr>\n",
       "    <tr>\n",
       "      <th>API:GetSystemInfo</th>\n",
       "      <td>1524</td>\n",
       "      <td>0</td>\n",
       "      <td>0.0</td>\n",
       "      <td>int64</td>\n",
       "      <td>[0, 1]</td>\n",
       "      <td>2</td>\n",
       "    </tr>\n",
       "    <tr>\n",
       "      <th>API:NtCreateProcessEx</th>\n",
       "      <td>1524</td>\n",
       "      <td>0</td>\n",
       "      <td>0.0</td>\n",
       "      <td>int64</td>\n",
       "      <td>[0, 1]</td>\n",
       "      <td>2</td>\n",
       "    </tr>\n",
       "    <tr>\n",
       "      <th>API:NtOpenFile</th>\n",
       "      <td>1524</td>\n",
       "      <td>0</td>\n",
       "      <td>0.0</td>\n",
       "      <td>int64</td>\n",
       "      <td>[0, 1]</td>\n",
       "      <td>2</td>\n",
       "    </tr>\n",
       "    <tr>\n",
       "      <th>API:WriteConsoleA</th>\n",
       "      <td>1524</td>\n",
       "      <td>0</td>\n",
       "      <td>0.0</td>\n",
       "      <td>int64</td>\n",
       "      <td>[0, 1]</td>\n",
       "      <td>2</td>\n",
       "    </tr>\n",
       "    <tr>\n",
       "      <th>API:GetSystemDirectoryA</th>\n",
       "      <td>1524</td>\n",
       "      <td>0</td>\n",
       "      <td>0.0</td>\n",
       "      <td>int64</td>\n",
       "      <td>[0, 1]</td>\n",
       "      <td>2</td>\n",
       "    </tr>\n",
       "  </tbody>\n",
       "</table>\n",
       "<p>23619 rows × 6 columns</p>\n",
       "</div>"
      ],
      "text/plain": [
       "                         Total_Value  Total_Missing_Value  \\\n",
       "Variable                                                    \n",
       "STR:16267                       1524                    0   \n",
       "ID                              1524                    0   \n",
       "label                           1524                    0   \n",
       "STR:16238                       1524                    0   \n",
       "STR:16236                       1524                    0   \n",
       "...                              ...                  ...   \n",
       "API:GetSystemInfo               1524                    0   \n",
       "API:NtCreateProcessEx           1524                    0   \n",
       "API:NtOpenFile                  1524                    0   \n",
       "API:WriteConsoleA               1524                    0   \n",
       "API:GetSystemDirectoryA         1524                    0   \n",
       "\n",
       "                         %_Missing_Value_Rate Data_Type  \\\n",
       "Variable                                                  \n",
       "STR:16267                                 0.0     int64   \n",
       "ID                                        0.0     int64   \n",
       "label                                     0.0     int64   \n",
       "STR:16238                                 0.0     int64   \n",
       "STR:16236                                 0.0     int64   \n",
       "...                                       ...       ...   \n",
       "API:GetSystemInfo                         0.0     int64   \n",
       "API:NtCreateProcessEx                     0.0     int64   \n",
       "API:NtOpenFile                            0.0     int64   \n",
       "API:WriteConsoleA                         0.0     int64   \n",
       "API:GetSystemDirectoryA                   0.0     int64   \n",
       "\n",
       "                                                              Unique_Value  \\\n",
       "Variable                                                                     \n",
       "STR:16267                                                           [0, 1]   \n",
       "ID                       [10001, 10002, 10003, 10005, 10006, 10007, 100...   \n",
       "label                                                               [1, 0]   \n",
       "STR:16238                                                           [0, 1]   \n",
       "STR:16236                                                           [0, 1]   \n",
       "...                                                                    ...   \n",
       "API:GetSystemInfo                                                   [0, 1]   \n",
       "API:NtCreateProcessEx                                               [0, 1]   \n",
       "API:NtOpenFile                                                      [0, 1]   \n",
       "API:WriteConsoleA                                                   [0, 1]   \n",
       "API:GetSystemDirectoryA                                             [0, 1]   \n",
       "\n",
       "                         Total_Unique_Value  \n",
       "Variable                                     \n",
       "STR:16267                                 2  \n",
       "ID                                     1524  \n",
       "label                                     2  \n",
       "STR:16238                                 2  \n",
       "STR:16236                                 2  \n",
       "...                                     ...  \n",
       "API:GetSystemInfo                         2  \n",
       "API:NtCreateProcessEx                     2  \n",
       "API:NtOpenFile                            2  \n",
       "API:WriteConsoleA                         2  \n",
       "API:GetSystemDirectoryA                   2  \n",
       "\n",
       "[23619 rows x 6 columns]"
      ]
     },
     "execution_count": 32,
     "metadata": {},
     "output_type": "execute_result"
    }
   ],
   "source": [
    "Missing_Unique_datatypes_Values(data)"
   ]
  },
  {
   "cell_type": "code",
   "execution_count": 33,
   "id": "05tEFuNmRySJ",
   "metadata": {
    "executionInfo": {
     "elapsed": 1091,
     "status": "ok",
     "timestamp": 1704878700927,
     "user": {
      "displayName": "Shreyanth Data Science",
      "userId": "07127992770184506420"
     },
     "user_tz": -330
    },
    "id": "05tEFuNmRySJ"
   },
   "outputs": [],
   "source": [
    "# prompt: drop duplicates\n",
    "\n",
    "data = data.drop_duplicates()\n"
   ]
  },
  {
   "cell_type": "code",
   "execution_count": 34,
   "id": "gZNDugtKTRpn",
   "metadata": {
    "colab": {
     "base_uri": "https://localhost:8080/"
    },
    "executionInfo": {
     "elapsed": 4,
     "status": "ok",
     "timestamp": 1704878700927,
     "user": {
      "displayName": "Shreyanth Data Science",
      "userId": "07127992770184506420"
     },
     "user_tz": -330
    },
    "id": "gZNDugtKTRpn",
    "outputId": "e39e82a3-c0ba-40ec-e409-8d0f14873fa1"
   },
   "outputs": [
    {
     "data": {
      "text/plain": [
       "12"
      ]
     },
     "execution_count": 34,
     "metadata": {},
     "output_type": "execute_result"
    }
   ],
   "source": [
    "data['Ransomware Family'].nunique()"
   ]
  },
  {
   "cell_type": "markdown",
   "id": "ublDZS5WuQry",
   "metadata": {
    "id": "ublDZS5WuQry"
   },
   "source": [
    " **Visulaization**"
   ]
  },
  {
   "cell_type": "code",
   "execution_count": 35,
   "id": "EpvmxJXRubtz",
   "metadata": {
    "executionInfo": {
     "elapsed": 434,
     "status": "ok",
     "timestamp": 1704878713920,
     "user": {
      "displayName": "Shreyanth Data Science",
      "userId": "07127992770184506420"
     },
     "user_tz": -330
    },
    "id": "EpvmxJXRubtz"
   },
   "outputs": [],
   "source": [
    "viz_df = data.copy()"
   ]
  },
  {
   "cell_type": "code",
   "execution_count": 36,
   "id": "WjibajSNjmGD",
   "metadata": {
    "executionInfo": {
     "elapsed": 1261,
     "status": "ok",
     "timestamp": 1704878716754,
     "user": {
      "displayName": "Shreyanth Data Science",
      "userId": "07127992770184506420"
     },
     "user_tz": -330
    },
    "id": "WjibajSNjmGD"
   },
   "outputs": [],
   "source": [
    "import seaborn as sns\n",
    "import matplotlib.pyplot as plt\n",
    "\n",
    "# Replace 1 with 'Ransomware' and 0 with 'Goodware' for visualization purposes\n",
    "viz_df['label'] = viz_df['label'].replace({1: 'Ransomware', 0: 'Goodware'})"
   ]
  },
  {
   "cell_type": "code",
   "execution_count": 37,
   "id": "L9VaESRKjmIs",
   "metadata": {
    "colab": {
     "base_uri": "https://localhost:8080/",
     "height": 564
    },
    "executionInfo": {
     "elapsed": 7,
     "status": "ok",
     "timestamp": 1704878716754,
     "user": {
      "displayName": "Shreyanth Data Science",
      "userId": "07127992770184506420"
     },
     "user_tz": -330
    },
    "id": "L9VaESRKjmIs",
    "outputId": "4d1acf9f-916c-4850-c078-d4e5c081da98"
   },
   "outputs": [
    {
     "data": {
      "image/png": "[encoded data removed]",
      "text/plain": [
       "<Figure size 800x600 with 1 Axes>"
      ]
     },
     "metadata": {},
     "output_type": "display_data"
    }
   ],
   "source": [
    "plt.figure(figsize=(8, 6))\n",
    "sns.countplot(data=viz_df, x='label')\n",
    "plt.xlabel('Label')\n",
    "plt.ylabel('Count')\n",
    "plt.title('Count of Ransomware and Goodware')\n",
    "plt.show()\n"
   ]
  },
  {
   "cell_type": "code",
   "execution_count": 38,
   "id": "Sy2EfuUBjmLT",
   "metadata": {
    "colab": {
     "base_uri": "https://localhost:8080/",
     "height": 521
    },
    "executionInfo": {
     "elapsed": 5,
     "status": "ok",
     "timestamp": 1704878716754,
     "user": {
      "displayName": "Shreyanth Data Science",
      "userId": "07127992770184506420"
     },
     "user_tz": -330
    },
    "id": "Sy2EfuUBjmLT",
    "outputId": "a7fb2d79-83fc-4474-8fc6-22e0bc6740af"
   },
   "outputs": [
    {
     "data": {
      "image/png": "[encoded data removed]",
      "text/plain": [
       "<Figure size 800x600 with 1 Axes>"
      ]
     },
     "metadata": {},
     "output_type": "display_data"
    }
   ],
   "source": [
    "label_counts = viz_df['label'].value_counts()\n",
    "plt.figure(figsize=(8, 6))\n",
    "plt.pie(label_counts, labels=label_counts.index, autopct='%1.1f%%', startangle=140)\n",
    "plt.title('Distribution of Ransomware and Goodware')\n",
    "plt.axis('equal')\n",
    "plt.show()\n"
   ]
  },
  {
   "cell_type": "code",
   "execution_count": 39,
   "id": "yAc7joCcjmRB",
   "metadata": {
    "colab": {
     "base_uri": "https://localhost:8080/"
    },
    "executionInfo": {
     "elapsed": 1083,
     "status": "ok",
     "timestamp": 1704878719724,
     "user": {
      "displayName": "Shreyanth Data Science",
      "userId": "07127992770184506420"
     },
     "user_tz": -330
    },
    "id": "yAc7joCcjmRB",
    "outputId": "89b337b9-7829-4c87-9cd5-e6b2f6a82e9b"
   },
   "outputs": [
    {
     "data": {
      "text/plain": [
       "0       CryptLocker\n",
       "1        CryptoWall\n",
       "2       CryptLocker\n",
       "3            Kovter\n",
       "4            MATSNU\n",
       "           ...     \n",
       "1519       Goodware\n",
       "1520       Goodware\n",
       "1521       Goodware\n",
       "1522       Goodware\n",
       "1523       Goodware\n",
       "Name: Ransomware Family, Length: 1524, dtype: object"
      ]
     },
     "execution_count": 39,
     "metadata": {},
     "output_type": "execute_result"
    }
   ],
   "source": [
    "# Assuming df is your DataFrame with columns 'label' and 'Ransomware Family'\n",
    "\n",
    "# Define the mapping between ID and Family Name\n",
    "family_mapping = {\n",
    "    0: 'Goodware',\n",
    "    1: 'Critroni',\n",
    "    2: 'CryptLocker',\n",
    "    3: 'CryptoWall',\n",
    "    4: 'KOLLAH',\n",
    "    5: 'Kovter',\n",
    "    6: 'Locker',\n",
    "    7: 'MATSNU',\n",
    "    8: 'PGPCODER',\n",
    "    9: 'Reveton',\n",
    "    10: 'TeslaCrypt',\n",
    "    11: 'Trojan-Ransom'\n",
    "}\n",
    "\n",
    "# Replace 'Ransomware Family' IDs with Family Names in the DataFrame\n",
    "viz_df['Ransomware Family'] = viz_df['Ransomware Family'].map(family_mapping)\n",
    "\n",
    "viz_df['Ransomware Family']\n"
   ]
  },
  {
   "cell_type": "code",
   "execution_count": 40,
   "id": "yvhzbNW4jmTo",
   "metadata": {
    "colab": {
     "base_uri": "https://localhost:8080/",
     "height": 540
    },
    "executionInfo": {
     "elapsed": 6,
     "status": "ok",
     "timestamp": 1704878719725,
     "user": {
      "displayName": "Shreyanth Data Science",
      "userId": "07127992770184506420"
     },
     "user_tz": -330
    },
    "id": "yvhzbNW4jmTo",
    "outputId": "e0972705-7a13-4c37-ebb1-b9237b95aaef"
   },
   "outputs": [
    {
     "data": {
      "image/png": "[encoded data removed]",
      "text/plain": [
       "<Figure size 640x480 with 1 Axes>"
      ]
     },
     "metadata": {},
     "output_type": "display_data"
    }
   ],
   "source": [
    "sns.countplot(data=viz_df, x='Ransomware Family')\n",
    "plt.xticks(rotation=45)\n",
    "plt.xlabel('Ransomware Family')\n",
    "plt.ylabel('Count')\n",
    "plt.title('Count of Each Ransomware Family')\n",
    "plt.show()\n"
   ]
  },
  {
   "cell_type": "code",
   "execution_count": 41,
   "id": "1vHJeqSfjmWg",
   "metadata": {
    "colab": {
     "base_uri": "https://localhost:8080/",
     "height": 827
    },
    "executionInfo": {
     "elapsed": 5,
     "status": "ok",
     "timestamp": 1704878722042,
     "user": {
      "displayName": "Shreyanth Data Science",
      "userId": "07127992770184506420"
     },
     "user_tz": -330
    },
    "id": "1vHJeqSfjmWg",
    "outputId": "a2a98ce0-619c-4f05-d0dc-a148e2ee5558"
   },
   "outputs": [
    {
     "data": {
      "image/png": "[encoded data removed]",
      "text/plain": [
       "<Figure size 1500x2000 with 1 Axes>"
      ]
     },
     "metadata": {},
     "output_type": "display_data"
    }
   ],
   "source": [
    "family_counts = viz_df['Ransomware Family'].value_counts()\n",
    "plt.figure(figsize=(15, 20))\n",
    "plt.pie(family_counts, labels=family_counts.index, autopct='%1.1f%%')\n",
    "plt.title('Proportion of Each Ransomware Family')\n",
    "plt.show()\n"
   ]
  },
  {
   "cell_type": "code",
   "execution_count": 42,
   "id": "CarQ3J6ovVVA",
   "metadata": {
    "colab": {
     "base_uri": "https://localhost:8080/"
    },
    "executionInfo": {
     "elapsed": 3,
     "status": "ok",
     "timestamp": 1704878722680,
     "user": {
      "displayName": "Shreyanth Data Science",
      "userId": "07127992770184506420"
     },
     "user_tz": -330
    },
    "id": "CarQ3J6ovVVA",
    "outputId": "989100f2-e04d-4647-c7d5-17a1d0d39a0f"
   },
   "outputs": [
    {
     "data": {
      "text/plain": [
       "0       2\n",
       "1       3\n",
       "2       2\n",
       "3       5\n",
       "4       7\n",
       "       ..\n",
       "1519    0\n",
       "1520    0\n",
       "1521    0\n",
       "1522    0\n",
       "1523    0\n",
       "Name: Ransomware Family, Length: 1524, dtype: int64"
      ]
     },
     "execution_count": 42,
     "metadata": {},
     "output_type": "execute_result"
    }
   ],
   "source": [
    "data['Ransomware Family']"
   ]
  },
  {
   "cell_type": "code",
   "execution_count": 43,
   "id": "J25I2BTYuBHq",
   "metadata": {
    "colab": {
     "base_uri": "https://localhost:8080/"
    },
    "executionInfo": {
     "elapsed": 2,
     "status": "ok",
     "timestamp": 1704878724633,
     "user": {
      "displayName": "Shreyanth Data Science",
      "userId": "07127992770184506420"
     },
     "user_tz": -330
    },
    "id": "J25I2BTYuBHq",
    "outputId": "1c9aa945-d3d6-47e1-b60a-7afbc729be21"
   },
   "outputs": [
    {
     "data": {
      "text/plain": [
       "(1524, 23619)"
      ]
     },
     "execution_count": 43,
     "metadata": {},
     "output_type": "execute_result"
    }
   ],
   "source": [
    "data.shape"
   ]
  },
  {
   "cell_type": "code",
   "execution_count": 44,
   "id": "fv3uiIGwtkKa",
   "metadata": {
    "colab": {
     "base_uri": "https://localhost:8080/"
    },
    "executionInfo": {
     "elapsed": 4824,
     "status": "ok",
     "timestamp": 1704878731858,
     "user": {
      "displayName": "Shreyanth Data Science",
      "userId": "07127992770184506420"
     },
     "user_tz": -330
    },
    "id": "fv3uiIGwtkKa",
    "outputId": "69665bbf-1b7b-4318-fa64-5649b54828bc"
   },
   "outputs": [
    {
     "name": "stdout",
     "output_type": "stream",
     "text": [
      "Before SMOTE: Counter({0: 942, 1: 582})\n",
      "After SMOTE: Counter({1: 942, 0: 942})\n"
     ]
    }
   ],
   "source": [
    "from imblearn.over_sampling import SMOTE\n",
    "from collections import Counter\n",
    "\n",
    "# Assuming 'X' contains the features and 'y' contains the target variable\n",
    "# Replace 'feature_columns' and 'target_column' with your actual column names\n",
    "\n",
    "feature_columns = data.drop(['label','ID'], axis=1)  # Adjust column names as needed\n",
    "target_column = data['label']\n",
    "\n",
    "# Initialize SMOTE\n",
    "smote = SMOTE(random_state=42)\n",
    "\n",
    "# Perform SMOTE on the data\n",
    "X_resampled, y_resampled = smote.fit_resample(feature_columns, target_column)\n",
    "\n",
    "# Show the class distribution before and after SMOTE\n",
    "print(\"Before SMOTE:\", Counter(target_column))\n",
    "print(\"After SMOTE:\", Counter(y_resampled))\n"
   ]
  },
  {
   "cell_type": "code",
   "execution_count": 45,
   "id": "2KZKrgNptkTv",
   "metadata": {
    "colab": {
     "base_uri": "https://localhost:8080/"
    },
    "executionInfo": {
     "elapsed": 375,
     "status": "ok",
     "timestamp": 1704878735325,
     "user": {
      "displayName": "Shreyanth Data Science",
      "userId": "07127992770184506420"
     },
     "user_tz": -330
    },
    "id": "2KZKrgNptkTv",
    "outputId": "3481a38d-2d54-409d-d6dc-72372f910033"
   },
   "outputs": [
    {
     "data": {
      "text/plain": [
       "(1884, 23617)"
      ]
     },
     "execution_count": 45,
     "metadata": {},
     "output_type": "execute_result"
    }
   ],
   "source": [
    "X_resampled.shape"
   ]
  },
  {
   "cell_type": "code",
   "execution_count": 47,
   "id": "Y-dfdBvrtkWQ",
   "metadata": {
    "colab": {
     "base_uri": "https://localhost:8080/"
    },
    "executionInfo": {
     "elapsed": 3,
     "status": "ok",
     "timestamp": 1704878738560,
     "user": {
      "displayName": "Shreyanth Data Science",
      "userId": "07127992770184506420"
     },
     "user_tz": -330
    },
    "id": "Y-dfdBvrtkWQ",
    "outputId": "364f6c69-d3bb-4d92-a575-f37de5c0eceb"
   },
   "outputs": [
    {
     "data": {
      "text/plain": [
       "0       1\n",
       "1       1\n",
       "2       1\n",
       "3       1\n",
       "4       1\n",
       "       ..\n",
       "1879    1\n",
       "1880    1\n",
       "1881    1\n",
       "1882    1\n",
       "1883    1\n",
       "Name: label, Length: 1884, dtype: int64"
      ]
     },
     "execution_count": 47,
     "metadata": {},
     "output_type": "execute_result"
    }
   ],
   "source": [
    "y_resampled"
   ]
  },
  {
   "cell_type": "code",
   "execution_count": 48,
   "id": "fJiELjioIS5X",
   "metadata": {
    "executionInfo": {
     "elapsed": 1017,
     "status": "ok",
     "timestamp": 1704878742881,
     "user": {
      "displayName": "Shreyanth Data Science",
      "userId": "07127992770184506420"
     },
     "user_tz": -330
    },
    "id": "fJiELjioIS5X"
   },
   "outputs": [],
   "source": [
    "X_SMOTE= X_resampled.copy()\n",
    "y_SMOTE= y_resampled.copy()"
   ]
  },
  {
   "cell_type": "code",
   "execution_count": 49,
   "id": "BuGCDzYdH7D8",
   "metadata": {
    "colab": {
     "base_uri": "https://localhost:8080/",
     "height": 461
    },
    "executionInfo": {
     "elapsed": 5,
     "status": "ok",
     "timestamp": 1704878742881,
     "user": {
      "displayName": "Shreyanth Data Science",
      "userId": "07127992770184506420"
     },
     "user_tz": -330
    },
    "id": "BuGCDzYdH7D8",
    "outputId": "05ed9920-a138-4de2-f0a7-e72dd692eb0b"
   },
   "outputs": [
    {
     "data": {
      "text/html": [
       "<div>\n",
       "<style scoped>\n",
       "    .dataframe tbody tr th:only-of-type {\n",
       "        vertical-align: middle;\n",
       "    }\n",
       "\n",
       "    .dataframe tbody tr th {\n",
       "        vertical-align: top;\n",
       "    }\n",
       "\n",
       "    .dataframe thead th {\n",
       "        text-align: right;\n",
       "    }\n",
       "</style>\n",
       "<table border=\"1\" class=\"dataframe\">\n",
       "  <thead>\n",
       "    <tr style=\"text-align: right;\">\n",
       "      <th></th>\n",
       "      <th>Ransomware Family</th>\n",
       "      <th>API:GetSystemDirectoryA</th>\n",
       "      <th>API:WriteConsoleA</th>\n",
       "      <th>API:NtOpenFile</th>\n",
       "      <th>API:NtCreateProcessEx</th>\n",
       "      <th>API:GetSystemInfo</th>\n",
       "      <th>API:WriteConsoleW</th>\n",
       "      <th>API:NtReadVirtualMemory</th>\n",
       "      <th>API:RemoveDirectoryA</th>\n",
       "      <th>API:GetKeyState</th>\n",
       "      <th>...</th>\n",
       "      <th>STR:16252</th>\n",
       "      <th>STR:16253</th>\n",
       "      <th>STR:16255</th>\n",
       "      <th>STR:16256</th>\n",
       "      <th>STR:16259</th>\n",
       "      <th>STR:16260</th>\n",
       "      <th>STR:16261</th>\n",
       "      <th>STR:16264</th>\n",
       "      <th>STR:16267</th>\n",
       "      <th>label</th>\n",
       "    </tr>\n",
       "  </thead>\n",
       "  <tbody>\n",
       "    <tr>\n",
       "      <th>0</th>\n",
       "      <td>2</td>\n",
       "      <td>0</td>\n",
       "      <td>0</td>\n",
       "      <td>0</td>\n",
       "      <td>0</td>\n",
       "      <td>0</td>\n",
       "      <td>0</td>\n",
       "      <td>0</td>\n",
       "      <td>0</td>\n",
       "      <td>0</td>\n",
       "      <td>...</td>\n",
       "      <td>0</td>\n",
       "      <td>0</td>\n",
       "      <td>0</td>\n",
       "      <td>0</td>\n",
       "      <td>0</td>\n",
       "      <td>0</td>\n",
       "      <td>0</td>\n",
       "      <td>0</td>\n",
       "      <td>0</td>\n",
       "      <td>1</td>\n",
       "    </tr>\n",
       "    <tr>\n",
       "      <th>1</th>\n",
       "      <td>3</td>\n",
       "      <td>1</td>\n",
       "      <td>0</td>\n",
       "      <td>1</td>\n",
       "      <td>0</td>\n",
       "      <td>1</td>\n",
       "      <td>0</td>\n",
       "      <td>1</td>\n",
       "      <td>0</td>\n",
       "      <td>0</td>\n",
       "      <td>...</td>\n",
       "      <td>0</td>\n",
       "      <td>0</td>\n",
       "      <td>0</td>\n",
       "      <td>0</td>\n",
       "      <td>0</td>\n",
       "      <td>0</td>\n",
       "      <td>0</td>\n",
       "      <td>0</td>\n",
       "      <td>0</td>\n",
       "      <td>1</td>\n",
       "    </tr>\n",
       "    <tr>\n",
       "      <th>2</th>\n",
       "      <td>2</td>\n",
       "      <td>0</td>\n",
       "      <td>0</td>\n",
       "      <td>0</td>\n",
       "      <td>0</td>\n",
       "      <td>0</td>\n",
       "      <td>0</td>\n",
       "      <td>0</td>\n",
       "      <td>0</td>\n",
       "      <td>0</td>\n",
       "      <td>...</td>\n",
       "      <td>0</td>\n",
       "      <td>0</td>\n",
       "      <td>0</td>\n",
       "      <td>0</td>\n",
       "      <td>0</td>\n",
       "      <td>0</td>\n",
       "      <td>0</td>\n",
       "      <td>0</td>\n",
       "      <td>0</td>\n",
       "      <td>1</td>\n",
       "    </tr>\n",
       "    <tr>\n",
       "      <th>3</th>\n",
       "      <td>5</td>\n",
       "      <td>0</td>\n",
       "      <td>0</td>\n",
       "      <td>0</td>\n",
       "      <td>0</td>\n",
       "      <td>1</td>\n",
       "      <td>0</td>\n",
       "      <td>0</td>\n",
       "      <td>0</td>\n",
       "      <td>0</td>\n",
       "      <td>...</td>\n",
       "      <td>0</td>\n",
       "      <td>0</td>\n",
       "      <td>0</td>\n",
       "      <td>0</td>\n",
       "      <td>0</td>\n",
       "      <td>0</td>\n",
       "      <td>0</td>\n",
       "      <td>0</td>\n",
       "      <td>0</td>\n",
       "      <td>1</td>\n",
       "    </tr>\n",
       "    <tr>\n",
       "      <th>4</th>\n",
       "      <td>7</td>\n",
       "      <td>1</td>\n",
       "      <td>0</td>\n",
       "      <td>1</td>\n",
       "      <td>0</td>\n",
       "      <td>0</td>\n",
       "      <td>1</td>\n",
       "      <td>1</td>\n",
       "      <td>0</td>\n",
       "      <td>1</td>\n",
       "      <td>...</td>\n",
       "      <td>0</td>\n",
       "      <td>0</td>\n",
       "      <td>0</td>\n",
       "      <td>0</td>\n",
       "      <td>0</td>\n",
       "      <td>0</td>\n",
       "      <td>0</td>\n",
       "      <td>0</td>\n",
       "      <td>0</td>\n",
       "      <td>1</td>\n",
       "    </tr>\n",
       "    <tr>\n",
       "      <th>...</th>\n",
       "      <td>...</td>\n",
       "      <td>...</td>\n",
       "      <td>...</td>\n",
       "      <td>...</td>\n",
       "      <td>...</td>\n",
       "      <td>...</td>\n",
       "      <td>...</td>\n",
       "      <td>...</td>\n",
       "      <td>...</td>\n",
       "      <td>...</td>\n",
       "      <td>...</td>\n",
       "      <td>...</td>\n",
       "      <td>...</td>\n",
       "      <td>...</td>\n",
       "      <td>...</td>\n",
       "      <td>...</td>\n",
       "      <td>...</td>\n",
       "      <td>...</td>\n",
       "      <td>...</td>\n",
       "      <td>...</td>\n",
       "      <td>...</td>\n",
       "    </tr>\n",
       "    <tr>\n",
       "      <th>1879</th>\n",
       "      <td>2</td>\n",
       "      <td>1</td>\n",
       "      <td>0</td>\n",
       "      <td>1</td>\n",
       "      <td>0</td>\n",
       "      <td>0</td>\n",
       "      <td>0</td>\n",
       "      <td>0</td>\n",
       "      <td>0</td>\n",
       "      <td>0</td>\n",
       "      <td>...</td>\n",
       "      <td>0</td>\n",
       "      <td>0</td>\n",
       "      <td>0</td>\n",
       "      <td>0</td>\n",
       "      <td>0</td>\n",
       "      <td>0</td>\n",
       "      <td>0</td>\n",
       "      <td>0</td>\n",
       "      <td>0</td>\n",
       "      <td>1</td>\n",
       "    </tr>\n",
       "    <tr>\n",
       "      <th>1880</th>\n",
       "      <td>10</td>\n",
       "      <td>0</td>\n",
       "      <td>0</td>\n",
       "      <td>0</td>\n",
       "      <td>0</td>\n",
       "      <td>0</td>\n",
       "      <td>0</td>\n",
       "      <td>0</td>\n",
       "      <td>0</td>\n",
       "      <td>0</td>\n",
       "      <td>...</td>\n",
       "      <td>0</td>\n",
       "      <td>0</td>\n",
       "      <td>0</td>\n",
       "      <td>0</td>\n",
       "      <td>0</td>\n",
       "      <td>0</td>\n",
       "      <td>0</td>\n",
       "      <td>0</td>\n",
       "      <td>0</td>\n",
       "      <td>1</td>\n",
       "    </tr>\n",
       "    <tr>\n",
       "      <th>1881</th>\n",
       "      <td>2</td>\n",
       "      <td>0</td>\n",
       "      <td>0</td>\n",
       "      <td>0</td>\n",
       "      <td>0</td>\n",
       "      <td>0</td>\n",
       "      <td>0</td>\n",
       "      <td>0</td>\n",
       "      <td>0</td>\n",
       "      <td>0</td>\n",
       "      <td>...</td>\n",
       "      <td>0</td>\n",
       "      <td>0</td>\n",
       "      <td>0</td>\n",
       "      <td>0</td>\n",
       "      <td>0</td>\n",
       "      <td>0</td>\n",
       "      <td>0</td>\n",
       "      <td>0</td>\n",
       "      <td>0</td>\n",
       "      <td>1</td>\n",
       "    </tr>\n",
       "    <tr>\n",
       "      <th>1882</th>\n",
       "      <td>2</td>\n",
       "      <td>0</td>\n",
       "      <td>0</td>\n",
       "      <td>1</td>\n",
       "      <td>0</td>\n",
       "      <td>0</td>\n",
       "      <td>0</td>\n",
       "      <td>0</td>\n",
       "      <td>0</td>\n",
       "      <td>0</td>\n",
       "      <td>...</td>\n",
       "      <td>0</td>\n",
       "      <td>0</td>\n",
       "      <td>0</td>\n",
       "      <td>0</td>\n",
       "      <td>0</td>\n",
       "      <td>0</td>\n",
       "      <td>0</td>\n",
       "      <td>0</td>\n",
       "      <td>0</td>\n",
       "      <td>1</td>\n",
       "    </tr>\n",
       "    <tr>\n",
       "      <th>1883</th>\n",
       "      <td>3</td>\n",
       "      <td>0</td>\n",
       "      <td>0</td>\n",
       "      <td>1</td>\n",
       "      <td>0</td>\n",
       "      <td>0</td>\n",
       "      <td>0</td>\n",
       "      <td>0</td>\n",
       "      <td>1</td>\n",
       "      <td>0</td>\n",
       "      <td>...</td>\n",
       "      <td>0</td>\n",
       "      <td>0</td>\n",
       "      <td>0</td>\n",
       "      <td>0</td>\n",
       "      <td>0</td>\n",
       "      <td>0</td>\n",
       "      <td>0</td>\n",
       "      <td>0</td>\n",
       "      <td>0</td>\n",
       "      <td>1</td>\n",
       "    </tr>\n",
       "  </tbody>\n",
       "</table>\n",
       "<p>1884 rows × 23618 columns</p>\n",
       "</div>"
      ],
      "text/plain": [
       "      Ransomware Family  API:GetSystemDirectoryA  API:WriteConsoleA  \\\n",
       "0                     2                        0                  0   \n",
       "1                     3                        1                  0   \n",
       "2                     2                        0                  0   \n",
       "3                     5                        0                  0   \n",
       "4                     7                        1                  0   \n",
       "...                 ...                      ...                ...   \n",
       "1879                  2                        1                  0   \n",
       "1880                 10                        0                  0   \n",
       "1881                  2                        0                  0   \n",
       "1882                  2                        0                  0   \n",
       "1883                  3                        0                  0   \n",
       "\n",
       "      API:NtOpenFile  API:NtCreateProcessEx  API:GetSystemInfo  \\\n",
       "0                  0                      0                  0   \n",
       "1                  1                      0                  1   \n",
       "2                  0                      0                  0   \n",
       "3                  0                      0                  1   \n",
       "4                  1                      0                  0   \n",
       "...              ...                    ...                ...   \n",
       "1879               1                      0                  0   \n",
       "1880               0                      0                  0   \n",
       "1881               0                      0                  0   \n",
       "1882               1                      0                  0   \n",
       "1883               1                      0                  0   \n",
       "\n",
       "      API:WriteConsoleW  API:NtReadVirtualMemory  API:RemoveDirectoryA  \\\n",
       "0                     0                        0                     0   \n",
       "1                     0                        1                     0   \n",
       "2                     0                        0                     0   \n",
       "3                     0                        0                     0   \n",
       "4                     1                        1                     0   \n",
       "...                 ...                      ...                   ...   \n",
       "1879                  0                        0                     0   \n",
       "1880                  0                        0                     0   \n",
       "1881                  0                        0                     0   \n",
       "1882                  0                        0                     0   \n",
       "1883                  0                        0                     1   \n",
       "\n",
       "      API:GetKeyState  ...  STR:16252  STR:16253  STR:16255  STR:16256  \\\n",
       "0                   0  ...          0          0          0          0   \n",
       "1                   0  ...          0          0          0          0   \n",
       "2                   0  ...          0          0          0          0   \n",
       "3                   0  ...          0          0          0          0   \n",
       "4                   1  ...          0          0          0          0   \n",
       "...               ...  ...        ...        ...        ...        ...   \n",
       "1879                0  ...          0          0          0          0   \n",
       "1880                0  ...          0          0          0          0   \n",
       "1881                0  ...          0          0          0          0   \n",
       "1882                0  ...          0          0          0          0   \n",
       "1883                0  ...          0          0          0          0   \n",
       "\n",
       "      STR:16259  STR:16260  STR:16261  STR:16264  STR:16267  label  \n",
       "0             0          0          0          0          0      1  \n",
       "1             0          0          0          0          0      1  \n",
       "2             0          0          0          0          0      1  \n",
       "3             0          0          0          0          0      1  \n",
       "4             0          0          0          0          0      1  \n",
       "...         ...        ...        ...        ...        ...    ...  \n",
       "1879          0          0          0          0          0      1  \n",
       "1880          0          0          0          0          0      1  \n",
       "1881          0          0          0          0          0      1  \n",
       "1882          0          0          0          0          0      1  \n",
       "1883          0          0          0          0          0      1  \n",
       "\n",
       "[1884 rows x 23618 columns]"
      ]
     },
     "execution_count": 49,
     "metadata": {},
     "output_type": "execute_result"
    }
   ],
   "source": [
    "# prompt: X= X_resampled.copy() y= y_resampled.copy() , combine this to one dataframe\n",
    "\n",
    "df_SMOTE = pd.concat([X_SMOTE, y_SMOTE], axis=1)\n",
    "df_SMOTE"
   ]
  },
  {
   "cell_type": "code",
   "execution_count": 51,
   "id": "Kd34M4qcq5v5",
   "metadata": {
    "executionInfo": {
     "elapsed": 30710,
     "status": "ok",
     "timestamp": 1704878773588,
     "user": {
      "displayName": "Shreyanth Data Science",
      "userId": "07127992770184506420"
     },
     "user_tz": -330
    },
    "id": "Kd34M4qcq5v5"
   },
   "outputs": [],
   "source": [
    "# Save y_test_label_G_OR_B to CSV\n",
    "df_SMOTE.to_csv('C:/Users/MYPC/Desktop/shivsaran/csv/SMOTE_DF.csv', index=False)\n"
   ]
  },
  {
   "cell_type": "code",
   "execution_count": 52,
   "id": "rDPD5xJqyL2v",
   "metadata": {
    "colab": {
     "base_uri": "https://localhost:8080/",
     "height": 564
    },
    "executionInfo": {
     "elapsed": 458,
     "status": "ok",
     "timestamp": 1704878777652,
     "user": {
      "displayName": "Shreyanth Data Science",
      "userId": "07127992770184506420"
     },
     "user_tz": -330
    },
    "id": "rDPD5xJqyL2v",
    "outputId": "bc61136f-1a16-444b-c35e-a5ce141282e9"
   },
   "outputs": [
    {
     "data": {
      "image/png": "[encoded data removed]",
      "text/plain": [
       "<Figure size 800x600 with 1 Axes>"
      ]
     },
     "metadata": {},
     "output_type": "display_data"
    }
   ],
   "source": [
    "# prompt: plot a count plot on label of df\n",
    "\n",
    "plt.figure(figsize=(8, 6))\n",
    "sns.countplot(data=df_SMOTE, x='label')\n",
    "plt.xlabel('Label')\n",
    "plt.ylabel('Count')\n",
    "plt.title('Count of Ransomware and Goodware')\n",
    "plt.show()\n"
   ]
  },
  {
   "cell_type": "code",
   "execution_count": 53,
   "id": "n6hOptmJIqvE",
   "metadata": {
    "executionInfo": {
     "elapsed": 542,
     "status": "ok",
     "timestamp": 1704878782696,
     "user": {
      "displayName": "Shreyanth Data Science",
      "userId": "07127992770184506420"
     },
     "user_tz": -330
    },
    "id": "n6hOptmJIqvE"
   },
   "outputs": [],
   "source": [
    "# prompt: drop label and create X and y\n",
    "\n",
    "X= df_SMOTE.drop(['label'], axis=1)  # Adjust column names as needed\n",
    "y= df_SMOTE['label']\n"
   ]
  },
  {
   "cell_type": "code",
   "execution_count": 54,
   "id": "GNjIeu4xJET1",
   "metadata": {
    "colab": {
     "base_uri": "https://localhost:8080/",
     "height": 461
    },
    "executionInfo": {
     "elapsed": 4,
     "status": "ok",
     "timestamp": 1704878783128,
     "user": {
      "displayName": "Shreyanth Data Science",
      "userId": "07127992770184506420"
     },
     "user_tz": -330
    },
    "id": "GNjIeu4xJET1",
    "outputId": "0e328b48-e841-44d2-a204-afee1b3cc6c4"
   },
   "outputs": [
    {
     "data": {
      "text/html": [
       "<div>\n",
       "<style scoped>\n",
       "    .dataframe tbody tr th:only-of-type {\n",
       "        vertical-align: middle;\n",
       "    }\n",
       "\n",
       "    .dataframe tbody tr th {\n",
       "        vertical-align: top;\n",
       "    }\n",
       "\n",
       "    .dataframe thead th {\n",
       "        text-align: right;\n",
       "    }\n",
       "</style>\n",
       "<table border=\"1\" class=\"dataframe\">\n",
       "  <thead>\n",
       "    <tr style=\"text-align: right;\">\n",
       "      <th></th>\n",
       "      <th>Ransomware Family</th>\n",
       "      <th>API:GetSystemDirectoryA</th>\n",
       "      <th>API:WriteConsoleA</th>\n",
       "      <th>API:NtOpenFile</th>\n",
       "      <th>API:NtCreateProcessEx</th>\n",
       "      <th>API:GetSystemInfo</th>\n",
       "      <th>API:WriteConsoleW</th>\n",
       "      <th>API:NtReadVirtualMemory</th>\n",
       "      <th>API:RemoveDirectoryA</th>\n",
       "      <th>API:GetKeyState</th>\n",
       "      <th>...</th>\n",
       "      <th>STR:16247</th>\n",
       "      <th>STR:16252</th>\n",
       "      <th>STR:16253</th>\n",
       "      <th>STR:16255</th>\n",
       "      <th>STR:16256</th>\n",
       "      <th>STR:16259</th>\n",
       "      <th>STR:16260</th>\n",
       "      <th>STR:16261</th>\n",
       "      <th>STR:16264</th>\n",
       "      <th>STR:16267</th>\n",
       "    </tr>\n",
       "  </thead>\n",
       "  <tbody>\n",
       "    <tr>\n",
       "      <th>0</th>\n",
       "      <td>2</td>\n",
       "      <td>0</td>\n",
       "      <td>0</td>\n",
       "      <td>0</td>\n",
       "      <td>0</td>\n",
       "      <td>0</td>\n",
       "      <td>0</td>\n",
       "      <td>0</td>\n",
       "      <td>0</td>\n",
       "      <td>0</td>\n",
       "      <td>...</td>\n",
       "      <td>0</td>\n",
       "      <td>0</td>\n",
       "      <td>0</td>\n",
       "      <td>0</td>\n",
       "      <td>0</td>\n",
       "      <td>0</td>\n",
       "      <td>0</td>\n",
       "      <td>0</td>\n",
       "      <td>0</td>\n",
       "      <td>0</td>\n",
       "    </tr>\n",
       "    <tr>\n",
       "      <th>1</th>\n",
       "      <td>3</td>\n",
       "      <td>1</td>\n",
       "      <td>0</td>\n",
       "      <td>1</td>\n",
       "      <td>0</td>\n",
       "      <td>1</td>\n",
       "      <td>0</td>\n",
       "      <td>1</td>\n",
       "      <td>0</td>\n",
       "      <td>0</td>\n",
       "      <td>...</td>\n",
       "      <td>0</td>\n",
       "      <td>0</td>\n",
       "      <td>0</td>\n",
       "      <td>0</td>\n",
       "      <td>0</td>\n",
       "      <td>0</td>\n",
       "      <td>0</td>\n",
       "      <td>0</td>\n",
       "      <td>0</td>\n",
       "      <td>0</td>\n",
       "    </tr>\n",
       "    <tr>\n",
       "      <th>2</th>\n",
       "      <td>2</td>\n",
       "      <td>0</td>\n",
       "      <td>0</td>\n",
       "      <td>0</td>\n",
       "      <td>0</td>\n",
       "      <td>0</td>\n",
       "      <td>0</td>\n",
       "      <td>0</td>\n",
       "      <td>0</td>\n",
       "      <td>0</td>\n",
       "      <td>...</td>\n",
       "      <td>0</td>\n",
       "      <td>0</td>\n",
       "      <td>0</td>\n",
       "      <td>0</td>\n",
       "      <td>0</td>\n",
       "      <td>0</td>\n",
       "      <td>0</td>\n",
       "      <td>0</td>\n",
       "      <td>0</td>\n",
       "      <td>0</td>\n",
       "    </tr>\n",
       "    <tr>\n",
       "      <th>3</th>\n",
       "      <td>5</td>\n",
       "      <td>0</td>\n",
       "      <td>0</td>\n",
       "      <td>0</td>\n",
       "      <td>0</td>\n",
       "      <td>1</td>\n",
       "      <td>0</td>\n",
       "      <td>0</td>\n",
       "      <td>0</td>\n",
       "      <td>0</td>\n",
       "      <td>...</td>\n",
       "      <td>0</td>\n",
       "      <td>0</td>\n",
       "      <td>0</td>\n",
       "      <td>0</td>\n",
       "      <td>0</td>\n",
       "      <td>0</td>\n",
       "      <td>0</td>\n",
       "      <td>0</td>\n",
       "      <td>0</td>\n",
       "      <td>0</td>\n",
       "    </tr>\n",
       "    <tr>\n",
       "      <th>4</th>\n",
       "      <td>7</td>\n",
       "      <td>1</td>\n",
       "      <td>0</td>\n",
       "      <td>1</td>\n",
       "      <td>0</td>\n",
       "      <td>0</td>\n",
       "      <td>1</td>\n",
       "      <td>1</td>\n",
       "      <td>0</td>\n",
       "      <td>1</td>\n",
       "      <td>...</td>\n",
       "      <td>0</td>\n",
       "      <td>0</td>\n",
       "      <td>0</td>\n",
       "      <td>0</td>\n",
       "      <td>0</td>\n",
       "      <td>0</td>\n",
       "      <td>0</td>\n",
       "      <td>0</td>\n",
       "      <td>0</td>\n",
       "      <td>0</td>\n",
       "    </tr>\n",
       "    <tr>\n",
       "      <th>...</th>\n",
       "      <td>...</td>\n",
       "      <td>...</td>\n",
       "      <td>...</td>\n",
       "      <td>...</td>\n",
       "      <td>...</td>\n",
       "      <td>...</td>\n",
       "      <td>...</td>\n",
       "      <td>...</td>\n",
       "      <td>...</td>\n",
       "      <td>...</td>\n",
       "      <td>...</td>\n",
       "      <td>...</td>\n",
       "      <td>...</td>\n",
       "      <td>...</td>\n",
       "      <td>...</td>\n",
       "      <td>...</td>\n",
       "      <td>...</td>\n",
       "      <td>...</td>\n",
       "      <td>...</td>\n",
       "      <td>...</td>\n",
       "      <td>...</td>\n",
       "    </tr>\n",
       "    <tr>\n",
       "      <th>1879</th>\n",
       "      <td>2</td>\n",
       "      <td>1</td>\n",
       "      <td>0</td>\n",
       "      <td>1</td>\n",
       "      <td>0</td>\n",
       "      <td>0</td>\n",
       "      <td>0</td>\n",
       "      <td>0</td>\n",
       "      <td>0</td>\n",
       "      <td>0</td>\n",
       "      <td>...</td>\n",
       "      <td>0</td>\n",
       "      <td>0</td>\n",
       "      <td>0</td>\n",
       "      <td>0</td>\n",
       "      <td>0</td>\n",
       "      <td>0</td>\n",
       "      <td>0</td>\n",
       "      <td>0</td>\n",
       "      <td>0</td>\n",
       "      <td>0</td>\n",
       "    </tr>\n",
       "    <tr>\n",
       "      <th>1880</th>\n",
       "      <td>10</td>\n",
       "      <td>0</td>\n",
       "      <td>0</td>\n",
       "      <td>0</td>\n",
       "      <td>0</td>\n",
       "      <td>0</td>\n",
       "      <td>0</td>\n",
       "      <td>0</td>\n",
       "      <td>0</td>\n",
       "      <td>0</td>\n",
       "      <td>...</td>\n",
       "      <td>0</td>\n",
       "      <td>0</td>\n",
       "      <td>0</td>\n",
       "      <td>0</td>\n",
       "      <td>0</td>\n",
       "      <td>0</td>\n",
       "      <td>0</td>\n",
       "      <td>0</td>\n",
       "      <td>0</td>\n",
       "      <td>0</td>\n",
       "    </tr>\n",
       "    <tr>\n",
       "      <th>1881</th>\n",
       "      <td>2</td>\n",
       "      <td>0</td>\n",
       "      <td>0</td>\n",
       "      <td>0</td>\n",
       "      <td>0</td>\n",
       "      <td>0</td>\n",
       "      <td>0</td>\n",
       "      <td>0</td>\n",
       "      <td>0</td>\n",
       "      <td>0</td>\n",
       "      <td>...</td>\n",
       "      <td>0</td>\n",
       "      <td>0</td>\n",
       "      <td>0</td>\n",
       "      <td>0</td>\n",
       "      <td>0</td>\n",
       "      <td>0</td>\n",
       "      <td>0</td>\n",
       "      <td>0</td>\n",
       "      <td>0</td>\n",
       "      <td>0</td>\n",
       "    </tr>\n",
       "    <tr>\n",
       "      <th>1882</th>\n",
       "      <td>2</td>\n",
       "      <td>0</td>\n",
       "      <td>0</td>\n",
       "      <td>1</td>\n",
       "      <td>0</td>\n",
       "      <td>0</td>\n",
       "      <td>0</td>\n",
       "      <td>0</td>\n",
       "      <td>0</td>\n",
       "      <td>0</td>\n",
       "      <td>...</td>\n",
       "      <td>0</td>\n",
       "      <td>0</td>\n",
       "      <td>0</td>\n",
       "      <td>0</td>\n",
       "      <td>0</td>\n",
       "      <td>0</td>\n",
       "      <td>0</td>\n",
       "      <td>0</td>\n",
       "      <td>0</td>\n",
       "      <td>0</td>\n",
       "    </tr>\n",
       "    <tr>\n",
       "      <th>1883</th>\n",
       "      <td>3</td>\n",
       "      <td>0</td>\n",
       "      <td>0</td>\n",
       "      <td>1</td>\n",
       "      <td>0</td>\n",
       "      <td>0</td>\n",
       "      <td>0</td>\n",
       "      <td>0</td>\n",
       "      <td>1</td>\n",
       "      <td>0</td>\n",
       "      <td>...</td>\n",
       "      <td>0</td>\n",
       "      <td>0</td>\n",
       "      <td>0</td>\n",
       "      <td>0</td>\n",
       "      <td>0</td>\n",
       "      <td>0</td>\n",
       "      <td>0</td>\n",
       "      <td>0</td>\n",
       "      <td>0</td>\n",
       "      <td>0</td>\n",
       "    </tr>\n",
       "  </tbody>\n",
       "</table>\n",
       "<p>1884 rows × 23617 columns</p>\n",
       "</div>"
      ],
      "text/plain": [
       "      Ransomware Family  API:GetSystemDirectoryA  API:WriteConsoleA  \\\n",
       "0                     2                        0                  0   \n",
       "1                     3                        1                  0   \n",
       "2                     2                        0                  0   \n",
       "3                     5                        0                  0   \n",
       "4                     7                        1                  0   \n",
       "...                 ...                      ...                ...   \n",
       "1879                  2                        1                  0   \n",
       "1880                 10                        0                  0   \n",
       "1881                  2                        0                  0   \n",
       "1882                  2                        0                  0   \n",
       "1883                  3                        0                  0   \n",
       "\n",
       "      API:NtOpenFile  API:NtCreateProcessEx  API:GetSystemInfo  \\\n",
       "0                  0                      0                  0   \n",
       "1                  1                      0                  1   \n",
       "2                  0                      0                  0   \n",
       "3                  0                      0                  1   \n",
       "4                  1                      0                  0   \n",
       "...              ...                    ...                ...   \n",
       "1879               1                      0                  0   \n",
       "1880               0                      0                  0   \n",
       "1881               0                      0                  0   \n",
       "1882               1                      0                  0   \n",
       "1883               1                      0                  0   \n",
       "\n",
       "      API:WriteConsoleW  API:NtReadVirtualMemory  API:RemoveDirectoryA  \\\n",
       "0                     0                        0                     0   \n",
       "1                     0                        1                     0   \n",
       "2                     0                        0                     0   \n",
       "3                     0                        0                     0   \n",
       "4                     1                        1                     0   \n",
       "...                 ...                      ...                   ...   \n",
       "1879                  0                        0                     0   \n",
       "1880                  0                        0                     0   \n",
       "1881                  0                        0                     0   \n",
       "1882                  0                        0                     0   \n",
       "1883                  0                        0                     1   \n",
       "\n",
       "      API:GetKeyState  ...  STR:16247  STR:16252  STR:16253  STR:16255  \\\n",
       "0                   0  ...          0          0          0          0   \n",
       "1                   0  ...          0          0          0          0   \n",
       "2                   0  ...          0          0          0          0   \n",
       "3                   0  ...          0          0          0          0   \n",
       "4                   1  ...          0          0          0          0   \n",
       "...               ...  ...        ...        ...        ...        ...   \n",
       "1879                0  ...          0          0          0          0   \n",
       "1880                0  ...          0          0          0          0   \n",
       "1881                0  ...          0          0          0          0   \n",
       "1882                0  ...          0          0          0          0   \n",
       "1883                0  ...          0          0          0          0   \n",
       "\n",
       "      STR:16256  STR:16259  STR:16260  STR:16261  STR:16264  STR:16267  \n",
       "0             0          0          0          0          0          0  \n",
       "1             0          0          0          0          0          0  \n",
       "2             0          0          0          0          0          0  \n",
       "3             0          0          0          0          0          0  \n",
       "4             0          0          0          0          0          0  \n",
       "...         ...        ...        ...        ...        ...        ...  \n",
       "1879          0          0          0          0          0          0  \n",
       "1880          0          0          0          0          0          0  \n",
       "1881          0          0          0          0          0          0  \n",
       "1882          0          0          0          0          0          0  \n",
       "1883          0          0          0          0          0          0  \n",
       "\n",
       "[1884 rows x 23617 columns]"
      ]
     },
     "execution_count": 54,
     "metadata": {},
     "output_type": "execute_result"
    }
   ],
   "source": [
    "X"
   ]
  },
  {
   "cell_type": "code",
   "execution_count": 55,
   "id": "zF4N0WgkJEXh",
   "metadata": {
    "colab": {
     "base_uri": "https://localhost:8080/"
    },
    "executionInfo": {
     "elapsed": 3,
     "status": "ok",
     "timestamp": 1704878785017,
     "user": {
      "displayName": "Shreyanth Data Science",
      "userId": "07127992770184506420"
     },
     "user_tz": -330
    },
    "id": "zF4N0WgkJEXh",
    "outputId": "002fd3f6-446c-4a91-95ea-aec0d523d16e"
   },
   "outputs": [
    {
     "data": {
      "text/plain": [
       "0       1\n",
       "1       1\n",
       "2       1\n",
       "3       1\n",
       "4       1\n",
       "       ..\n",
       "1879    1\n",
       "1880    1\n",
       "1881    1\n",
       "1882    1\n",
       "1883    1\n",
       "Name: label, Length: 1884, dtype: int64"
      ]
     },
     "execution_count": 55,
     "metadata": {},
     "output_type": "execute_result"
    }
   ],
   "source": [
    "y"
   ]
  },
  {
   "cell_type": "code",
   "execution_count": 52,
   "id": "u4F-daCAq2jg",
   "metadata": {
    "executionInfo": {
     "elapsed": 1,
     "status": "ok",
     "timestamp": 1704878785404,
     "user": {
      "displayName": "Shreyanth Data Science",
      "userId": "07127992770184506420"
     },
     "user_tz": -330
    },
    "id": "u4F-daCAq2jg"
   },
   "outputs": [],
   "source": []
  },
  {
   "cell_type": "code",
   "execution_count": 56,
   "id": "l2H-gVUfgtjU",
   "metadata": {
    "executionInfo": {
     "elapsed": 4511,
     "status": "ok",
     "timestamp": 1704878803488,
     "user": {
      "displayName": "Shreyanth Data Science",
      "userId": "07127992770184506420"
     },
     "user_tz": -330
    },
    "id": "l2H-gVUfgtjU"
   },
   "outputs": [],
   "source": [
    "from sklearn.ensemble import RandomForestClassifier\n",
    "\n",
    "# Assuming X, y are your features and target\n",
    "model = RandomForestClassifier()\n",
    "model.fit(X, y)\n",
    "\n",
    "# Get feature importances\n",
    "feature_importances = model.feature_importances_\n",
    "\n",
    "# Pair feature names with importances\n",
    "feature_importance_dict = dict(zip(X.columns, feature_importances))\n",
    "\n",
    "# Sort and select top 10 features\n",
    "top_10_features = sorted(feature_importance_dict.items(), key=lambda x: x[1], reverse=True)[:11]\n"
   ]
  },
  {
   "cell_type": "code",
   "execution_count": 57,
   "id": "WkR1dB3egtl8",
   "metadata": {
    "colab": {
     "base_uri": "https://localhost:8080/",
     "height": 394
    },
    "executionInfo": {
     "elapsed": 9,
     "status": "ok",
     "timestamp": 1704878803488,
     "user": {
      "displayName": "Shreyanth Data Science",
      "userId": "07127992770184506420"
     },
     "user_tz": -330
    },
    "id": "WkR1dB3egtl8",
    "outputId": "40cfc32d-67c5-42f5-9095-51ba9c3186b2"
   },
   "outputs": [
    {
     "data": {
      "text/html": [
       "<div>\n",
       "<style scoped>\n",
       "    .dataframe tbody tr th:only-of-type {\n",
       "        vertical-align: middle;\n",
       "    }\n",
       "\n",
       "    .dataframe tbody tr th {\n",
       "        vertical-align: top;\n",
       "    }\n",
       "\n",
       "    .dataframe thead th {\n",
       "        text-align: right;\n",
       "    }\n",
       "</style>\n",
       "<table border=\"1\" class=\"dataframe\">\n",
       "  <thead>\n",
       "    <tr style=\"text-align: right;\">\n",
       "      <th></th>\n",
       "      <th>Features</th>\n",
       "      <th>Importance</th>\n",
       "    </tr>\n",
       "  </thead>\n",
       "  <tbody>\n",
       "    <tr>\n",
       "      <th>0</th>\n",
       "      <td>Ransomware Family</td>\n",
       "      <td>0.080882</td>\n",
       "    </tr>\n",
       "    <tr>\n",
       "      <th>1</th>\n",
       "      <td>API:NtReadVirtualMemory</td>\n",
       "      <td>0.020723</td>\n",
       "    </tr>\n",
       "    <tr>\n",
       "      <th>2</th>\n",
       "      <td>FILES_EXT:OPENED:tmp</td>\n",
       "      <td>0.019449</td>\n",
       "    </tr>\n",
       "    <tr>\n",
       "      <th>3</th>\n",
       "      <td>DROP:tmp</td>\n",
       "      <td>0.016483</td>\n",
       "    </tr>\n",
       "    <tr>\n",
       "      <th>4</th>\n",
       "      <td>API:CoInitializeEx</td>\n",
       "      <td>0.015058</td>\n",
       "    </tr>\n",
       "    <tr>\n",
       "      <th>5</th>\n",
       "      <td>FILES_EXT:WRITTEN:tmp</td>\n",
       "      <td>0.014693</td>\n",
       "    </tr>\n",
       "    <tr>\n",
       "      <th>6</th>\n",
       "      <td>API:CreateDirectoryW</td>\n",
       "      <td>0.013869</td>\n",
       "    </tr>\n",
       "    <tr>\n",
       "      <th>7</th>\n",
       "      <td>DIR:ENUMERATED:C:\\Documents and Settings\\MyUse...</td>\n",
       "      <td>0.012756</td>\n",
       "    </tr>\n",
       "    <tr>\n",
       "      <th>8</th>\n",
       "      <td>FILES_EXT:WRITTEN:dll</td>\n",
       "      <td>0.012302</td>\n",
       "    </tr>\n",
       "    <tr>\n",
       "      <th>9</th>\n",
       "      <td>FILES_EXT:OPENED:ini</td>\n",
       "      <td>0.010746</td>\n",
       "    </tr>\n",
       "    <tr>\n",
       "      <th>10</th>\n",
       "      <td>API:SetFilePointer</td>\n",
       "      <td>0.009402</td>\n",
       "    </tr>\n",
       "  </tbody>\n",
       "</table>\n",
       "</div>"
      ],
      "text/plain": [
       "                                             Features  Importance\n",
       "0                                   Ransomware Family    0.080882\n",
       "1                             API:NtReadVirtualMemory    0.020723\n",
       "2                                FILES_EXT:OPENED:tmp    0.019449\n",
       "3                                            DROP:tmp    0.016483\n",
       "4                                  API:CoInitializeEx    0.015058\n",
       "5                               FILES_EXT:WRITTEN:tmp    0.014693\n",
       "6                                API:CreateDirectoryW    0.013869\n",
       "7   DIR:ENUMERATED:C:\\Documents and Settings\\MyUse...    0.012756\n",
       "8                               FILES_EXT:WRITTEN:dll    0.012302\n",
       "9                                FILES_EXT:OPENED:ini    0.010746\n",
       "10                                 API:SetFilePointer    0.009402"
      ]
     },
     "execution_count": 57,
     "metadata": {},
     "output_type": "execute_result"
    }
   ],
   "source": [
    "Best_10 = pd.DataFrame(top_10_features,columns = ['Features','Importance'])\n",
    "Best_10"
   ]
  },
  {
   "cell_type": "code",
   "execution_count": 58,
   "id": "hGExHuIwgtxG",
   "metadata": {
    "colab": {
     "base_uri": "https://localhost:8080/"
    },
    "executionInfo": {
     "elapsed": 7,
     "status": "ok",
     "timestamp": 1704878803488,
     "user": {
      "displayName": "Shreyanth Data Science",
      "userId": "07127992770184506420"
     },
     "user_tz": -330
    },
    "id": "hGExHuIwgtxG",
    "outputId": "8698c19b-922e-4286-a0f5-c687e00b189d"
   },
   "outputs": [
    {
     "data": {
      "text/plain": [
       "array(['Ransomware Family', 'API:NtReadVirtualMemory',\n",
       "       'FILES_EXT:OPENED:tmp', 'DROP:tmp', 'API:CoInitializeEx',\n",
       "       'FILES_EXT:WRITTEN:tmp', 'API:CreateDirectoryW',\n",
       "       'DIR:ENUMERATED:C:\\\\Documents and Settings\\\\MyUser\\\\Desktop\\\\test-personal-files\\\\img\\\\',\n",
       "       'FILES_EXT:WRITTEN:dll', 'FILES_EXT:OPENED:ini',\n",
       "       'API:SetFilePointer'], dtype=object)"
      ]
     },
     "execution_count": 58,
     "metadata": {},
     "output_type": "execute_result"
    }
   ],
   "source": [
    "Best_df =  Best_10['Features']\n",
    "Best_df.values"
   ]
  },
  {
   "cell_type": "code",
   "execution_count": 59,
   "id": "fg7KahYCjl7J",
   "metadata": {
    "executionInfo": {
     "elapsed": 510,
     "status": "ok",
     "timestamp": 1704878803993,
     "user": {
      "displayName": "Shreyanth Data Science",
      "userId": "07127992770184506420"
     },
     "user_tz": -330
    },
    "id": "fg7KahYCjl7J"
   },
   "outputs": [],
   "source": [
    "X = df_SMOTE[['API:CoInitializeEx',\n",
    "       'REG:OPENED:HKEY_LOCAL_MACHINE\\\\Software\\\\Microsoft\\\\Windows\\\\CurrentVersion\\\\Uninstall\\\\',\n",
    "       'API:NtReadVirtualMemory', 'FILES_EXT:WRITTEN:tmp', 'DROP:tmp',\n",
    "       'API:CreateDirectoryW', 'API:GetFileSize',\n",
    "       'API:GetFileAttributesW', 'FILES_EXT:OPENED:exe','API:GetFileSize']]\n",
    "\n",
    "y = df_SMOTE['label']"
   ]
  },
  {
   "cell_type": "code",
   "execution_count": 60,
   "id": "Rbn-q-Jcy3Pe",
   "metadata": {
    "colab": {
     "base_uri": "https://localhost:8080/",
     "height": 444
    },
    "executionInfo": {
     "elapsed": 4,
     "status": "ok",
     "timestamp": 1704878803993,
     "user": {
      "displayName": "Shreyanth Data Science",
      "userId": "07127992770184506420"
     },
     "user_tz": -330
    },
    "id": "Rbn-q-Jcy3Pe",
    "outputId": "c0b65d20-df64-4660-e1a6-3ca14c4a6d04"
   },
   "outputs": [
    {
     "data": {
      "text/html": [
       "<div>\n",
       "<style scoped>\n",
       "    .dataframe tbody tr th:only-of-type {\n",
       "        vertical-align: middle;\n",
       "    }\n",
       "\n",
       "    .dataframe tbody tr th {\n",
       "        vertical-align: top;\n",
       "    }\n",
       "\n",
       "    .dataframe thead th {\n",
       "        text-align: right;\n",
       "    }\n",
       "</style>\n",
       "<table border=\"1\" class=\"dataframe\">\n",
       "  <thead>\n",
       "    <tr style=\"text-align: right;\">\n",
       "      <th></th>\n",
       "      <th>API:CoInitializeEx</th>\n",
       "      <th>REG:OPENED:HKEY_LOCAL_MACHINE\\Software\\Microsoft\\Windows\\CurrentVersion\\Uninstall\\</th>\n",
       "      <th>API:NtReadVirtualMemory</th>\n",
       "      <th>FILES_EXT:WRITTEN:tmp</th>\n",
       "      <th>DROP:tmp</th>\n",
       "      <th>API:CreateDirectoryW</th>\n",
       "      <th>API:GetFileSize</th>\n",
       "      <th>API:GetFileAttributesW</th>\n",
       "      <th>FILES_EXT:OPENED:exe</th>\n",
       "      <th>API:GetFileSize</th>\n",
       "    </tr>\n",
       "  </thead>\n",
       "  <tbody>\n",
       "    <tr>\n",
       "      <th>0</th>\n",
       "      <td>0</td>\n",
       "      <td>0</td>\n",
       "      <td>0</td>\n",
       "      <td>0</td>\n",
       "      <td>0</td>\n",
       "      <td>0</td>\n",
       "      <td>0</td>\n",
       "      <td>0</td>\n",
       "      <td>0</td>\n",
       "      <td>0</td>\n",
       "    </tr>\n",
       "    <tr>\n",
       "      <th>1</th>\n",
       "      <td>0</td>\n",
       "      <td>0</td>\n",
       "      <td>1</td>\n",
       "      <td>0</td>\n",
       "      <td>0</td>\n",
       "      <td>0</td>\n",
       "      <td>0</td>\n",
       "      <td>0</td>\n",
       "      <td>1</td>\n",
       "      <td>0</td>\n",
       "    </tr>\n",
       "    <tr>\n",
       "      <th>2</th>\n",
       "      <td>0</td>\n",
       "      <td>0</td>\n",
       "      <td>0</td>\n",
       "      <td>0</td>\n",
       "      <td>0</td>\n",
       "      <td>0</td>\n",
       "      <td>0</td>\n",
       "      <td>0</td>\n",
       "      <td>0</td>\n",
       "      <td>0</td>\n",
       "    </tr>\n",
       "    <tr>\n",
       "      <th>3</th>\n",
       "      <td>0</td>\n",
       "      <td>0</td>\n",
       "      <td>0</td>\n",
       "      <td>0</td>\n",
       "      <td>0</td>\n",
       "      <td>0</td>\n",
       "      <td>0</td>\n",
       "      <td>0</td>\n",
       "      <td>0</td>\n",
       "      <td>0</td>\n",
       "    </tr>\n",
       "    <tr>\n",
       "      <th>4</th>\n",
       "      <td>0</td>\n",
       "      <td>0</td>\n",
       "      <td>1</td>\n",
       "      <td>0</td>\n",
       "      <td>0</td>\n",
       "      <td>0</td>\n",
       "      <td>1</td>\n",
       "      <td>1</td>\n",
       "      <td>1</td>\n",
       "      <td>1</td>\n",
       "    </tr>\n",
       "    <tr>\n",
       "      <th>...</th>\n",
       "      <td>...</td>\n",
       "      <td>...</td>\n",
       "      <td>...</td>\n",
       "      <td>...</td>\n",
       "      <td>...</td>\n",
       "      <td>...</td>\n",
       "      <td>...</td>\n",
       "      <td>...</td>\n",
       "      <td>...</td>\n",
       "      <td>...</td>\n",
       "    </tr>\n",
       "    <tr>\n",
       "      <th>1879</th>\n",
       "      <td>0</td>\n",
       "      <td>0</td>\n",
       "      <td>0</td>\n",
       "      <td>0</td>\n",
       "      <td>0</td>\n",
       "      <td>0</td>\n",
       "      <td>0</td>\n",
       "      <td>0</td>\n",
       "      <td>1</td>\n",
       "      <td>0</td>\n",
       "    </tr>\n",
       "    <tr>\n",
       "      <th>1880</th>\n",
       "      <td>0</td>\n",
       "      <td>0</td>\n",
       "      <td>0</td>\n",
       "      <td>0</td>\n",
       "      <td>0</td>\n",
       "      <td>0</td>\n",
       "      <td>0</td>\n",
       "      <td>0</td>\n",
       "      <td>0</td>\n",
       "      <td>0</td>\n",
       "    </tr>\n",
       "    <tr>\n",
       "      <th>1881</th>\n",
       "      <td>0</td>\n",
       "      <td>0</td>\n",
       "      <td>0</td>\n",
       "      <td>0</td>\n",
       "      <td>0</td>\n",
       "      <td>0</td>\n",
       "      <td>0</td>\n",
       "      <td>0</td>\n",
       "      <td>0</td>\n",
       "      <td>0</td>\n",
       "    </tr>\n",
       "    <tr>\n",
       "      <th>1882</th>\n",
       "      <td>0</td>\n",
       "      <td>0</td>\n",
       "      <td>0</td>\n",
       "      <td>0</td>\n",
       "      <td>0</td>\n",
       "      <td>0</td>\n",
       "      <td>1</td>\n",
       "      <td>0</td>\n",
       "      <td>1</td>\n",
       "      <td>1</td>\n",
       "    </tr>\n",
       "    <tr>\n",
       "      <th>1883</th>\n",
       "      <td>0</td>\n",
       "      <td>0</td>\n",
       "      <td>0</td>\n",
       "      <td>1</td>\n",
       "      <td>1</td>\n",
       "      <td>1</td>\n",
       "      <td>1</td>\n",
       "      <td>1</td>\n",
       "      <td>1</td>\n",
       "      <td>1</td>\n",
       "    </tr>\n",
       "  </tbody>\n",
       "</table>\n",
       "<p>1884 rows × 10 columns</p>\n",
       "</div>"
      ],
      "text/plain": [
       "      API:CoInitializeEx  \\\n",
       "0                      0   \n",
       "1                      0   \n",
       "2                      0   \n",
       "3                      0   \n",
       "4                      0   \n",
       "...                  ...   \n",
       "1879                   0   \n",
       "1880                   0   \n",
       "1881                   0   \n",
       "1882                   0   \n",
       "1883                   0   \n",
       "\n",
       "      REG:OPENED:HKEY_LOCAL_MACHINE\\Software\\Microsoft\\Windows\\CurrentVersion\\Uninstall\\  \\\n",
       "0                                                     0                                    \n",
       "1                                                     0                                    \n",
       "2                                                     0                                    \n",
       "3                                                     0                                    \n",
       "4                                                     0                                    \n",
       "...                                                 ...                                    \n",
       "1879                                                  0                                    \n",
       "1880                                                  0                                    \n",
       "1881                                                  0                                    \n",
       "1882                                                  0                                    \n",
       "1883                                                  0                                    \n",
       "\n",
       "      API:NtReadVirtualMemory  FILES_EXT:WRITTEN:tmp  DROP:tmp  \\\n",
       "0                           0                      0         0   \n",
       "1                           1                      0         0   \n",
       "2                           0                      0         0   \n",
       "3                           0                      0         0   \n",
       "4                           1                      0         0   \n",
       "...                       ...                    ...       ...   \n",
       "1879                        0                      0         0   \n",
       "1880                        0                      0         0   \n",
       "1881                        0                      0         0   \n",
       "1882                        0                      0         0   \n",
       "1883                        0                      1         1   \n",
       "\n",
       "      API:CreateDirectoryW  API:GetFileSize  API:GetFileAttributesW  \\\n",
       "0                        0                0                       0   \n",
       "1                        0                0                       0   \n",
       "2                        0                0                       0   \n",
       "3                        0                0                       0   \n",
       "4                        0                1                       1   \n",
       "...                    ...              ...                     ...   \n",
       "1879                     0                0                       0   \n",
       "1880                     0                0                       0   \n",
       "1881                     0                0                       0   \n",
       "1882                     0                1                       0   \n",
       "1883                     1                1                       1   \n",
       "\n",
       "      FILES_EXT:OPENED:exe  API:GetFileSize  \n",
       "0                        0                0  \n",
       "1                        1                0  \n",
       "2                        0                0  \n",
       "3                        0                0  \n",
       "4                        1                1  \n",
       "...                    ...              ...  \n",
       "1879                     1                0  \n",
       "1880                     0                0  \n",
       "1881                     0                0  \n",
       "1882                     1                1  \n",
       "1883                     1                1  \n",
       "\n",
       "[1884 rows x 10 columns]"
      ]
     },
     "execution_count": 60,
     "metadata": {},
     "output_type": "execute_result"
    }
   ],
   "source": [
    "X"
   ]
  },
  {
   "cell_type": "code",
   "execution_count": 61,
   "id": "Eh38buqlJyH0",
   "metadata": {
    "colab": {
     "base_uri": "https://localhost:8080/"
    },
    "executionInfo": {
     "elapsed": 3,
     "status": "ok",
     "timestamp": 1704878803993,
     "user": {
      "displayName": "Shreyanth Data Science",
      "userId": "07127992770184506420"
     },
     "user_tz": -330
    },
    "id": "Eh38buqlJyH0",
    "outputId": "a4711043-9870-4729-830b-8a51cfd9811b"
   },
   "outputs": [
    {
     "data": {
      "text/plain": [
       "0       1\n",
       "1       1\n",
       "2       1\n",
       "3       1\n",
       "4       1\n",
       "       ..\n",
       "1879    1\n",
       "1880    1\n",
       "1881    1\n",
       "1882    1\n",
       "1883    1\n",
       "Name: label, Length: 1884, dtype: int64"
      ]
     },
     "execution_count": 61,
     "metadata": {},
     "output_type": "execute_result"
    }
   ],
   "source": [
    "y"
   ]
  },
  {
   "cell_type": "code",
   "execution_count": 62,
   "id": "_AdMAznESXll",
   "metadata": {
    "colab": {
     "base_uri": "https://localhost:8080/",
     "height": 444
    },
    "executionInfo": {
     "elapsed": 4,
     "status": "ok",
     "timestamp": 1704878807609,
     "user": {
      "displayName": "Shreyanth Data Science",
      "userId": "07127992770184506420"
     },
     "user_tz": -330
    },
    "id": "_AdMAznESXll",
    "outputId": "5de36e0e-00c6-4a04-ccdc-114138f0d185"
   },
   "outputs": [
    {
     "data": {
      "text/html": [
       "<div>\n",
       "<style scoped>\n",
       "    .dataframe tbody tr th:only-of-type {\n",
       "        vertical-align: middle;\n",
       "    }\n",
       "\n",
       "    .dataframe tbody tr th {\n",
       "        vertical-align: top;\n",
       "    }\n",
       "\n",
       "    .dataframe thead th {\n",
       "        text-align: right;\n",
       "    }\n",
       "</style>\n",
       "<table border=\"1\" class=\"dataframe\">\n",
       "  <thead>\n",
       "    <tr style=\"text-align: right;\">\n",
       "      <th></th>\n",
       "      <th>API:CoInitializeEx</th>\n",
       "      <th>REG:OPENED:HKEY_LOCAL_MACHINE\\Software\\Microsoft\\Windows\\CurrentVersion\\Uninstall\\</th>\n",
       "      <th>API:NtReadVirtualMemory</th>\n",
       "      <th>FILES_EXT:WRITTEN:tmp</th>\n",
       "      <th>DROP:tmp</th>\n",
       "      <th>API:CreateDirectoryW</th>\n",
       "      <th>API:GetFileSize</th>\n",
       "      <th>API:GetFileAttributesW</th>\n",
       "      <th>FILES_EXT:OPENED:exe</th>\n",
       "      <th>API:GetFileSize</th>\n",
       "      <th>label</th>\n",
       "    </tr>\n",
       "  </thead>\n",
       "  <tbody>\n",
       "    <tr>\n",
       "      <th>0</th>\n",
       "      <td>0</td>\n",
       "      <td>0</td>\n",
       "      <td>0</td>\n",
       "      <td>0</td>\n",
       "      <td>0</td>\n",
       "      <td>0</td>\n",
       "      <td>0</td>\n",
       "      <td>0</td>\n",
       "      <td>0</td>\n",
       "      <td>0</td>\n",
       "      <td>1</td>\n",
       "    </tr>\n",
       "    <tr>\n",
       "      <th>1</th>\n",
       "      <td>0</td>\n",
       "      <td>0</td>\n",
       "      <td>1</td>\n",
       "      <td>0</td>\n",
       "      <td>0</td>\n",
       "      <td>0</td>\n",
       "      <td>0</td>\n",
       "      <td>0</td>\n",
       "      <td>1</td>\n",
       "      <td>0</td>\n",
       "      <td>1</td>\n",
       "    </tr>\n",
       "    <tr>\n",
       "      <th>2</th>\n",
       "      <td>0</td>\n",
       "      <td>0</td>\n",
       "      <td>0</td>\n",
       "      <td>0</td>\n",
       "      <td>0</td>\n",
       "      <td>0</td>\n",
       "      <td>0</td>\n",
       "      <td>0</td>\n",
       "      <td>0</td>\n",
       "      <td>0</td>\n",
       "      <td>1</td>\n",
       "    </tr>\n",
       "    <tr>\n",
       "      <th>3</th>\n",
       "      <td>0</td>\n",
       "      <td>0</td>\n",
       "      <td>0</td>\n",
       "      <td>0</td>\n",
       "      <td>0</td>\n",
       "      <td>0</td>\n",
       "      <td>0</td>\n",
       "      <td>0</td>\n",
       "      <td>0</td>\n",
       "      <td>0</td>\n",
       "      <td>1</td>\n",
       "    </tr>\n",
       "    <tr>\n",
       "      <th>4</th>\n",
       "      <td>0</td>\n",
       "      <td>0</td>\n",
       "      <td>1</td>\n",
       "      <td>0</td>\n",
       "      <td>0</td>\n",
       "      <td>0</td>\n",
       "      <td>1</td>\n",
       "      <td>1</td>\n",
       "      <td>1</td>\n",
       "      <td>1</td>\n",
       "      <td>1</td>\n",
       "    </tr>\n",
       "    <tr>\n",
       "      <th>...</th>\n",
       "      <td>...</td>\n",
       "      <td>...</td>\n",
       "      <td>...</td>\n",
       "      <td>...</td>\n",
       "      <td>...</td>\n",
       "      <td>...</td>\n",
       "      <td>...</td>\n",
       "      <td>...</td>\n",
       "      <td>...</td>\n",
       "      <td>...</td>\n",
       "      <td>...</td>\n",
       "    </tr>\n",
       "    <tr>\n",
       "      <th>1879</th>\n",
       "      <td>0</td>\n",
       "      <td>0</td>\n",
       "      <td>0</td>\n",
       "      <td>0</td>\n",
       "      <td>0</td>\n",
       "      <td>0</td>\n",
       "      <td>0</td>\n",
       "      <td>0</td>\n",
       "      <td>1</td>\n",
       "      <td>0</td>\n",
       "      <td>1</td>\n",
       "    </tr>\n",
       "    <tr>\n",
       "      <th>1880</th>\n",
       "      <td>0</td>\n",
       "      <td>0</td>\n",
       "      <td>0</td>\n",
       "      <td>0</td>\n",
       "      <td>0</td>\n",
       "      <td>0</td>\n",
       "      <td>0</td>\n",
       "      <td>0</td>\n",
       "      <td>0</td>\n",
       "      <td>0</td>\n",
       "      <td>1</td>\n",
       "    </tr>\n",
       "    <tr>\n",
       "      <th>1881</th>\n",
       "      <td>0</td>\n",
       "      <td>0</td>\n",
       "      <td>0</td>\n",
       "      <td>0</td>\n",
       "      <td>0</td>\n",
       "      <td>0</td>\n",
       "      <td>0</td>\n",
       "      <td>0</td>\n",
       "      <td>0</td>\n",
       "      <td>0</td>\n",
       "      <td>1</td>\n",
       "    </tr>\n",
       "    <tr>\n",
       "      <th>1882</th>\n",
       "      <td>0</td>\n",
       "      <td>0</td>\n",
       "      <td>0</td>\n",
       "      <td>0</td>\n",
       "      <td>0</td>\n",
       "      <td>0</td>\n",
       "      <td>1</td>\n",
       "      <td>0</td>\n",
       "      <td>1</td>\n",
       "      <td>1</td>\n",
       "      <td>1</td>\n",
       "    </tr>\n",
       "    <tr>\n",
       "      <th>1883</th>\n",
       "      <td>0</td>\n",
       "      <td>0</td>\n",
       "      <td>0</td>\n",
       "      <td>1</td>\n",
       "      <td>1</td>\n",
       "      <td>1</td>\n",
       "      <td>1</td>\n",
       "      <td>1</td>\n",
       "      <td>1</td>\n",
       "      <td>1</td>\n",
       "      <td>1</td>\n",
       "    </tr>\n",
       "  </tbody>\n",
       "</table>\n",
       "<p>1884 rows × 11 columns</p>\n",
       "</div>"
      ],
      "text/plain": [
       "      API:CoInitializeEx  \\\n",
       "0                      0   \n",
       "1                      0   \n",
       "2                      0   \n",
       "3                      0   \n",
       "4                      0   \n",
       "...                  ...   \n",
       "1879                   0   \n",
       "1880                   0   \n",
       "1881                   0   \n",
       "1882                   0   \n",
       "1883                   0   \n",
       "\n",
       "      REG:OPENED:HKEY_LOCAL_MACHINE\\Software\\Microsoft\\Windows\\CurrentVersion\\Uninstall\\  \\\n",
       "0                                                     0                                    \n",
       "1                                                     0                                    \n",
       "2                                                     0                                    \n",
       "3                                                     0                                    \n",
       "4                                                     0                                    \n",
       "...                                                 ...                                    \n",
       "1879                                                  0                                    \n",
       "1880                                                  0                                    \n",
       "1881                                                  0                                    \n",
       "1882                                                  0                                    \n",
       "1883                                                  0                                    \n",
       "\n",
       "      API:NtReadVirtualMemory  FILES_EXT:WRITTEN:tmp  DROP:tmp  \\\n",
       "0                           0                      0         0   \n",
       "1                           1                      0         0   \n",
       "2                           0                      0         0   \n",
       "3                           0                      0         0   \n",
       "4                           1                      0         0   \n",
       "...                       ...                    ...       ...   \n",
       "1879                        0                      0         0   \n",
       "1880                        0                      0         0   \n",
       "1881                        0                      0         0   \n",
       "1882                        0                      0         0   \n",
       "1883                        0                      1         1   \n",
       "\n",
       "      API:CreateDirectoryW  API:GetFileSize  API:GetFileAttributesW  \\\n",
       "0                        0                0                       0   \n",
       "1                        0                0                       0   \n",
       "2                        0                0                       0   \n",
       "3                        0                0                       0   \n",
       "4                        0                1                       1   \n",
       "...                    ...              ...                     ...   \n",
       "1879                     0                0                       0   \n",
       "1880                     0                0                       0   \n",
       "1881                     0                0                       0   \n",
       "1882                     0                1                       0   \n",
       "1883                     1                1                       1   \n",
       "\n",
       "      FILES_EXT:OPENED:exe  API:GetFileSize  label  \n",
       "0                        0                0      1  \n",
       "1                        1                0      1  \n",
       "2                        0                0      1  \n",
       "3                        0                0      1  \n",
       "4                        1                1      1  \n",
       "...                    ...              ...    ...  \n",
       "1879                     1                0      1  \n",
       "1880                     0                0      1  \n",
       "1881                     0                0      1  \n",
       "1882                     1                1      1  \n",
       "1883                     1                1      1  \n",
       "\n",
       "[1884 rows x 11 columns]"
      ]
     },
     "execution_count": 62,
     "metadata": {},
     "output_type": "execute_result"
    }
   ],
   "source": [
    "df = pd.concat([X, y], axis=1)\n",
    "df"
   ]
  },
  {
   "cell_type": "code",
   "execution_count": 63,
   "id": "bI_4PPK6SWlx",
   "metadata": {
    "executionInfo": {
     "elapsed": 407,
     "status": "ok",
     "timestamp": 1704878808372,
     "user": {
      "displayName": "Shreyanth Data Science",
      "userId": "07127992770184506420"
     },
     "user_tz": -330
    },
    "id": "bI_4PPK6SWlx"
   },
   "outputs": [],
   "source": [
    "\n",
    "df.to_csv('C:/Users/MYPC/Desktop/shivsaran/csv/important_features.csv', index=False)\n",
    "\n"
   ]
  },
  {
   "cell_type": "code",
   "execution_count": 65,
   "id": "0m4IXB2TcYEh",
   "metadata": {
    "executionInfo": {
     "elapsed": 1343,
     "status": "ok",
     "timestamp": 1704878813311,
     "user": {
      "displayName": "Shreyanth Data Science",
      "userId": "07127992770184506420"
     },
     "user_tz": -330
    },
    "id": "0m4IXB2TcYEh"
   },
   "outputs": [],
   "source": [
    "# prompt: save all the X_train_label_G_OR_B, X_test_label_G_OR_B, y_train_label_G_OR_B, y_test_label_G_OR_B  to csv\n",
    "from sklearn.model_selection import train_test_split\n",
    "import pandas as pd\n",
    "\n",
    "X_label = df.drop('label', axis=1)\n",
    "y_label = df['label']\n",
    "X_train_label_G_OR_B, X_test_label_G_OR_B, y_train_label_G_OR_B, y_test_label_G_OR_B = train_test_split(X_label, y_label, test_size=0.20, random_state=42)\n",
    "\n",
    "\n",
    "# Save X_train_label_G_OR_B to CSV\n",
    "X_train_label_G_OR_B.to_csv('C:/Users/MYPC/Desktop/shivsaran/csv/X_train_G_OR_R.csv', index=False)\n",
    "\n",
    "# Save X_test_label_G_OR_B to CSV\n",
    "X_test_label_G_OR_B.to_csv('C:/Users/MYPC/Desktop/shivsaran/csv/X_test_G_OR_R.csv', index=False)\n",
    "\n",
    "# Save y_train_label_G_OR_B to CSV\n",
    "y_train_label_G_OR_B.to_csv('C:/Users/MYPC/Desktop/shivsaran/csv/y_train_G_OR_R.csv', index=False)\n",
    "\n",
    "# Save y_test_label_G_OR_B to CSV\n",
    "y_test_label_G_OR_B.to_csv('C:/Users/MYPC/Desktop/shivsaran/csv/y_test_G_OR_R.csv', index=False)\n"
   ]
  },
  {
   "cell_type": "code",
   "execution_count": 67,
   "id": "VJM1dcxWfBL_",
   "metadata": {
    "executionInfo": {
     "elapsed": 1332,
     "status": "ok",
     "timestamp": 1704878817303,
     "user": {
      "displayName": "Shreyanth Data Science",
      "userId": "07127992770184506420"
     },
     "user_tz": -330
    },
    "id": "VJM1dcxWfBL_"
   },
   "outputs": [],
   "source": [
    "# prompt: save all the X_train_label_G_OR_B, X_test_label_G_OR_B, y_train_label_G_OR_B, y_test_label_G_OR_B  to csv\n",
    "\n",
    "import pandas as pd\n",
    "\n",
    "X_Family = df\n",
    "y_Family = df_SMOTE['Ransomware Family']\n",
    "X_train_Family, X_test_Family, y_train_Family, y_test_Family = train_test_split(X_Family, y_Family, test_size=0.20, random_state=42)\n",
    "\n",
    "\n",
    "# Save X_train_label_G_OR_B to CSV\n",
    "X_train_Family.to_csv('C:/Users/MYPC/Desktop/shivsaran/csv/X_train_Family.csv', index=False)\n",
    "\n",
    "# Save X_test_label_G_OR_B to CSV\n",
    "X_test_Family.to_csv('C:/Users/MYPC/Desktop/shivsaran/csv/X_test_Family.csv', index=False)\n",
    "\n",
    "# Save y_train_label_G_OR_B to CSV\n",
    "y_train_Family.to_csv('C:/Users/MYPC/Desktop/shivsaran/csv/y_train_Family.csv', index=False)\n",
    "\n",
    "# Save y_test_label_G_OR_B to CSV\n",
    "y_test_Family.to_csv('C:/Users/MYPC/Desktop/shivsaran/csv/y_test_Family.csv', index=False)\n"
   ]
  },
  {
   "cell_type": "code",
   "execution_count": 68,
   "id": "2O6UaSjus0zO",
   "metadata": {
    "colab": {
     "base_uri": "https://localhost:8080/"
    },
    "executionInfo": {
     "elapsed": 2,
     "status": "ok",
     "timestamp": 1704878819414,
     "user": {
      "displayName": "Shreyanth Data Science",
      "userId": "07127992770184506420"
     },
     "user_tz": -330
    },
    "id": "2O6UaSjus0zO",
    "outputId": "7a49d1e7-82a4-4077-cdbd-edba1062ac27"
   },
   "outputs": [
    {
     "name": "stdout",
     "output_type": "stream",
     "text": [
      "X_train_Family shape: (1507, 11)\n",
      "X_test_Family shape: (377, 11)\n",
      "y_train_Family shape: (1507,)\n",
      "y_test_Family shape: (377,)\n"
     ]
    }
   ],
   "source": [
    "# prompt: print shape of train,test\n",
    "\n",
    "print(f'X_train_Family shape: {X_train_Family.shape}')\n",
    "print(f'X_test_Family shape: {X_test_Family.shape}')\n",
    "print(f'y_train_Family shape: {y_train_Family.shape}')\n",
    "print(f'y_test_Family shape: {y_test_Family.shape}')\n"
   ]
  },
  {
   "cell_type": "code",
   "execution_count": 93,
   "id": "1ZMqXw4ws3gr",
   "metadata": {
    "id": "1ZMqXw4ws3gr"
   },
   "outputs": [
    {
     "data": {
      "text/plain": [
       "['model/column_order.pkl']"
      ]
     },
     "execution_count": 93,
     "metadata": {},
     "output_type": "execute_result"
    }
   ],
   "source": [
    "import joblib\n",
    "import os\n",
    "\n",
    "# Train model\n",
    "from sklearn.ensemble import RandomForestClassifier\n",
    "rf_model = RandomForestClassifier()\n",
    "rf_model.fit(X_train_label_G_OR_B, y_train_label_G_OR_B)\n",
    "\n",
    "# Save model and column order\n",
    "os.makedirs('model', exist_ok=True)\n",
    "joblib.dump(rf_model, 'model/rf_model.pkl')\n",
    "joblib.dump(X_train_label_G_OR_B.columns.tolist(), 'model/column_order.pkl')\n",
    "\n",
    "\n"
   ]
  }
 ],
 "metadata": {
  "accelerator": "GPU",
  "colab": {
   "gpuType": "T4",
   "provenance": []
  },
  "kernelspec": {
   "display_name": "Python 3",
   "name": "python3"
  },
  "language_info": {
   "codemirror_mode": {
    "name": "ipython",
    "version": 3
   },
   "file_extension": ".py",
   "mimetype": "text/x-python",
   "name": "python",
   "nbconvert_exporter": "python",
   "pygments_lexer": "ipython3",
   "version": "3.11.undefined"
  },
  "papermill": {
   "default_parameters": {},
   "duration": 85.539073,
   "end_time": "2022-11-29T15:50:33.492648",
   "environment_variables": {},
   "exception": null,
   "input_path": "__notebook__.ipynb",
   "output_path": "__notebook__.ipynb",
   "parameters": {},
   "start_time": "2022-11-29T15:49:07.953575",
   "version": "2.3.4"
  }
 },
 "nbformat": 4,
 "nbformat_minor": 5
}
